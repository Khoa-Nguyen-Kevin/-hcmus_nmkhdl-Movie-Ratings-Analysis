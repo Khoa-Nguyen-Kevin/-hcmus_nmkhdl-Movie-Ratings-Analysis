{
 "cells": [
  {
   "cell_type": "markdown",
   "metadata": {},
   "source": [
    "# Question 1: Does the runtime of a movie or TV series depend on its classification?"
   ]
  },
  {
   "cell_type": "markdown",
   "metadata": {},
   "source": [
    "## Setup Environment ##"
   ]
  },
  {
   "cell_type": "code",
   "execution_count": null,
   "metadata": {},
   "outputs": [],
   "source": [
    "import pandas as pd\n",
    "import seaborn as sns\n",
    "import matplotlib.pyplot as plt\n",
    "from scipy.stats import f_oneway"
   ]
  },
  {
   "cell_type": "markdown",
   "metadata": {},
   "source": [
    "## Data Analyze "
   ]
  },
  {
   "cell_type": "code",
   "execution_count": null,
   "metadata": {},
   "outputs": [],
   "source": [
    "df = pd.read_csv('../../data/processed/data.csv')"
   ]
  },
  {
   "cell_type": "markdown",
   "metadata": {},
   "source": [
    "## Descriptive Statistics ##"
   ]
  },
  {
   "cell_type": "code",
   "execution_count": null,
   "metadata": {},
   "outputs": [],
   "source": [
    "# Descriptive Statistics\n",
    "descriptive_stats = df.groupby('classification')['runtime'].describe()\n",
    "print(\"Descriptive Statistics:\")\n",
    "print(descriptive_stats)\n",
    "print()"
   ]
  },
  {
   "cell_type": "markdown",
   "metadata": {},
   "source": [
    "## Visual Exploration"
   ]
  },
  {
   "cell_type": "code",
   "execution_count": null,
   "metadata": {},
   "outputs": [],
   "source": [
    "# Visual Exploration\n",
    "plt.figure(figsize=(12, 8))\n",
    "sns.boxplot(x='classification', y='runtime', data=df)\n",
    "plt.title('Runtime Distribution by Classification')\n",
    "plt.show()"
   ]
  },
  {
   "cell_type": "markdown",
   "metadata": {},
   "source": [
    "## Statistical Testing"
   ]
  },
  {
   "cell_type": "code",
   "execution_count": null,
   "metadata": {},
   "outputs": [],
   "source": [
    "result = f_oneway(\n",
    "    df[df['classification'] == 'PG']['runtime'],\n",
    "    df[df['classification'] == 'PG-13']['runtime'],\n",
    "    df[df['classification'] == 'R']['runtime']\n",
    ")\n",
    "\n",
    "print(\"ANOVA p-value:\", result.pvalue)"
   ]
  },
  {
   "cell_type": "markdown",
   "metadata": {},
   "source": [
    "## Summary"
   ]
  },
  {
   "cell_type": "markdown",
   "metadata": {},
   "source": [
    "Based on the low p-value from the ANOVA test, we can reject the null hypothesis that there are no significant differences in runtime between classifications. Therefore, we can conclude that the runtime of a movie or TV series depends on its classification.\n",
    "\n",
    "In simpler terms, the classification of a movie or TV series appears to have a statistically significant impact on its runtime. Further analysis or post-hoc tests may be conducted to identify which specific classifications differ from each other in terms of runtime."
   ]
  }
 ],
 "metadata": {
  "language_info": {
   "name": "python"
  }
 },
 "nbformat": 4,
 "nbformat_minor": 2
}
