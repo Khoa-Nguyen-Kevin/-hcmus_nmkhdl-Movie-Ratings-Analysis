{
 "cells": [
  {
   "cell_type": "markdown",
   "id": "83058564",
   "metadata": {},
   "source": [
    "# Collect data (Rotten Tomatoes)"
   ]
  },
  {
   "cell_type": "markdown",
   "id": "05d0ca7e",
   "metadata": {},
   "source": [
    "#### Import libraries in use:\n",
    "- requests: send HTTP requests\n",
    "- bs4: parsing HTML elements\n",
    "- Selenium: helps render and retrieve JavaScript content"
   ]
  },
  {
   "cell_type": "code",
   "execution_count": 1,
   "id": "9823e827",
   "metadata": {},
   "outputs": [],
   "source": [
    "import requests\n",
    "import pandas as pd\n",
    "from bs4 import BeautifulSoup\n",
    "from selenium import webdriver\n",
    "from selenium.webdriver.common.by import By"
   ]
  },
  {
   "cell_type": "markdown",
   "id": "096b8b6c",
   "metadata": {},
   "source": [
    "#### Collect movie links to crawl data\n",
    "We get the movie links based on movie genres, we will crawl the data on these links later"
   ]
  },
  {
   "cell_type": "code",
   "execution_count": 3,
   "id": "83a095d6",
   "metadata": {},
   "outputs": [
    {
     "name": "stdout",
     "output_type": "stream",
     "text": [
      "1205\n"
     ]
    }
   ],
   "source": [
    "links = []\n",
    "search_params = ['action','adventure','animation','anime','biography','comedy', 'crime', 'documentary', 'drama', 'entertainment',\n",
    "                 'faith_and_spirituality', 'fantasy', 'game_show', 'history', 'holiday', 'horror', 'kids_and_family', 'music', \n",
    "                 'musical', 'mystery_and_thriller', 'reality', 'romance', 'sci_fi', 'sports', 'western', 'war']\n",
    "# get links for movies\n",
    "for search in search_params:\n",
    "    response = requests.get(f\"https://www.rottentomatoes.com/browse/movies_at_home/genres:{search}?page=8\")\n",
    "    soup = BeautifulSoup(response.content, 'html.parser')\n",
    "    link_elements = soup.select('div > tile-dynamic > a')\n",
    "    for element in link_elements:\n",
    "        links.append(element['href'])\n",
    "\n",
    "links = list(set(links))#remove duplicated links\n",
    "print(len(links))"
   ]
  },
  {
   "cell_type": "markdown",
   "id": "85319a33",
   "metadata": {},
   "source": [
    "Remove links from links list that are already in the previous crawled data file"
   ]
  },
  {
   "cell_type": "code",
   "execution_count": 4,
   "id": "fb667b4b",
   "metadata": {},
   "outputs": [],
   "source": [
    "df = pd.read_csv('../../data/raw/data.csv')\n",
    "#remove crawled links\n",
    "for url in links[:]:\n",
    "    if (f\"https://www.rottentomatoes.com{url}\") in df['url'].values:\n",
    "        links.remove(url)"
   ]
  },
  {
   "cell_type": "markdown",
   "id": "ab01d224",
   "metadata": {},
   "source": [
    "#### Collect data from movie links\n",
    "First, We build a function to get the HTML text/data"
   ]
  },
  {
   "cell_type": "code",
   "execution_count": 5,
   "id": "3d172196",
   "metadata": {},
   "outputs": [],
   "source": [
    "def get_element_text(soup, selector):\n",
    "    element = soup.select_one(selector)\n",
    "    text =''\n",
    "    if element:\n",
    "        text = element.get_text()\n",
    "        text = text.split()\n",
    "        text = ' '.join(text)\n",
    "    else:\n",
    "        text = ''\n",
    "    return text"
   ]
  },
  {
   "cell_type": "markdown",
   "id": "b84443c0",
   "metadata": {},
   "source": [
    "Initial field lists for Dataframe"
   ]
  },
  {
   "cell_type": "code",
   "execution_count": 6,
   "id": "f288152a",
   "metadata": {},
   "outputs": [],
   "source": [
    "#init lists to store values for attributes\n",
    "Name = []\n",
    "Genre = []\n",
    "Tomatometer_score = []\n",
    "Tomatometer_count = []\n",
    "Audience_score = []\n",
    "Audience_count = []\n",
    "Runtime = []\n",
    "Classification_rating = []\n",
    "Release_year = []\n",
    "Original_language = []\n",
    "Urls = []"
   ]
  },
  {
   "cell_type": "markdown",
   "id": "b22ec1a2",
   "metadata": {},
   "source": [
    "We use BeautifulSoup to help retrieve and parse the HTML content. But since the selector of BeautifulSoup doesn't work for some data fields like TomatometerRate and AudienceRate because they're inside shadow-root and the shadow-root object isn't visible in the document root, so we build a method that takes a list of ShadowDom root locators and use Selenium to help execute JavaScript and retrieve the shadow element. So we build a function to retrieve shadow element from it's parent:"
   ]
  },
  {
   "cell_type": "code",
   "execution_count": 7,
   "id": "d3e447de",
   "metadata": {},
   "outputs": [],
   "source": [
    "#find shadow element from shadow root\n",
    "def expand_shadow_element(element):\n",
    "  shadow_root = driver.execute_script('return arguments[0].shadowRoot', element)\n",
    "  return shadow_root"
   ]
  },
  {
   "cell_type": "markdown",
   "id": "a88bfb00",
   "metadata": {},
   "source": [
    "Crawl data from the movie links: set a number of movies we want to collect for each run and get the HTML text for data field"
   ]
  },
  {
   "cell_type": "code",
   "execution_count": 8,
   "id": "efa5c5ba",
   "metadata": {},
   "outputs": [],
   "source": [
    "count = 0        \n",
    "#crawl data movies\n",
    "for url in links:\n",
    "    response = requests.get(f\"https://www.rottentomatoes.com{url}\")\n",
    "    soup = BeautifulSoup(response.content, 'html.parser')\n",
    "    #name\n",
    "    name = get_element_text(soup, '#scoreboard > h1')\n",
    "    Name.append(name)\n",
    "\n",
    "    #tomatometer rate and audience rate (these two have to be crawled seperatedly since they're inside Shadow DOM object)\n",
    "    driver = webdriver.Chrome()\n",
    "    driver.get(f\"https://www.rottentomatoes.com{url}\")\n",
    "    root1 = driver.find_element(By.CSS_SELECTOR, \"#scoreboard\")\n",
    "    shadow_root1 = expand_shadow_element(root1)\n",
    "    root2a = shadow_root1.find_element(By.CSS_SELECTOR,'div > div.scores-container > div.tomatometer-container > div > score-icon-critic-deprecated')\n",
    "    shadow_root2a = expand_shadow_element(root2a)\n",
    "    root2b = shadow_root1.find_element(By.CSS_SELECTOR,'div > div.scores-container > div.audience-container > div > score-icon-audience-deprecated')\n",
    "    shadow_root2b = expand_shadow_element(root2b) \n",
    "    tomatometer_score = shadow_root2a.find_element(By.CSS_SELECTOR,'div > span.percentage').text\n",
    "    audience_score = shadow_root2b.find_element(By.CSS_SELECTOR,'div > span.percentage').text\n",
    "    driver.quit()\n",
    "    Tomatometer_score.append(tomatometer_score)\n",
    "    Audience_score.append(audience_score)\n",
    "\n",
    "    #number of tomatometers\n",
    "    tomatometer_count = get_element_text(soup, '#scoreboard > a:nth-child(3)')\n",
    "    tomatometer_count = tomatometer_count.split(\" \")[0]\n",
    "    Tomatometer_count.append(tomatometer_count)\n",
    "\n",
    "    #number of audiences\n",
    "    audience_count = get_element_text(soup, '#scoreboard > a:nth-child(4)')\n",
    "    audience_count = audience_count.split(\" \")[0]\n",
    "    Audience_count.append(audience_count)\n",
    "\n",
    "    #runtime\n",
    "    runtime = get_element_text(soup,'#scoreboard > p')\n",
    "    runtime = runtime.split(\", \")[-1]\n",
    "    Runtime.append(runtime)\n",
    "\n",
    "    #release\n",
    "    year = get_element_text(soup,'#scoreboard > p')\n",
    "    year = year.split(\", \")[0]\n",
    "    Release_year.append(year)\n",
    "    \n",
    "    #Get Classification, Genre and Original Language\n",
    "    contents= ['','','']\n",
    "    for i in range(5):\n",
    "        temp = get_element_text(soup, f'#info > li:nth-child({i}) > p > b')\n",
    "        content = get_element_text(soup, f'#info > li:nth-child({i}) > p > span')\n",
    "        if(temp == 'Rating:'):\n",
    "            #classification\n",
    "            contents[0] = content\n",
    "        if(temp == 'Genre:'):\n",
    "            #genre\n",
    "            contents[1] = content\n",
    "        if(temp == 'Original Language:'):\n",
    "            #language\n",
    "            contents[2] = content\n",
    "    Classification_rating.append(contents[0])\n",
    "    Genre.append(contents[1])\n",
    "    Original_language.append(contents[2])\n",
    "\n",
    "    #link\n",
    "    Urls.append(\"https://www.rottentomatoes.com\" + url)\n",
    "    \n",
    "    count +=1\n",
    "    #if(count % 1 == 0):\n",
    "     #   print(count)\n",
    "    if(count == 1): #set count limit for each crawling time\n",
    "        break"
   ]
  },
  {
   "cell_type": "markdown",
   "id": "81ef8b16",
   "metadata": {},
   "source": [
    "#### Save collected data"
   ]
  },
  {
   "cell_type": "code",
   "execution_count": 9,
   "id": "4a281a0a",
   "metadata": {},
   "outputs": [],
   "source": [
    "data = pd.DataFrame({'name':Name,\n",
    "                     'genre':Genre,\n",
    "                     'tomatometer_score': Tomatometer_score,\n",
    "                     'tomatometer_count':Tomatometer_count,\n",
    "                     'audience_score': Audience_score,\n",
    "                     'audience_count': Audience_count,\n",
    "                     'classification':Classification_rating,\n",
    "                     'runtime':Runtime, \n",
    "                     'release_year':Release_year,\n",
    "                     'original_language':Original_language,\n",
    "                     'url':Urls})\n",
    "\n",
    "data.to_csv('../../data/raw/data.csv', mode='a', header=False,index=False)"
   ]
  },
  {
   "cell_type": "code",
   "execution_count": 10,
   "id": "763b7a1c",
   "metadata": {},
   "outputs": [
    {
     "name": "stdout",
     "output_type": "stream",
     "text": [
      "(1216, 11)\n"
     ]
    }
   ],
   "source": [
    "df_copy = pd.read_csv('../../data/raw/data.csv')\n",
    "df_copy = df_copy.drop_duplicates()\n",
    "\n",
    "print(df_copy.shape)"
   ]
  }
 ],
 "metadata": {
  "kernelspec": {
   "display_name": "Python 3 (ipykernel)",
   "language": "python",
   "name": "python3"
  },
  "language_info": {
   "codemirror_mode": {
    "name": "ipython",
    "version": 3
   },
   "file_extension": ".py",
   "mimetype": "text/x-python",
   "name": "python",
   "nbconvert_exporter": "python",
   "pygments_lexer": "ipython3",
   "version": "3.8.17"
  }
 },
 "nbformat": 4,
 "nbformat_minor": 5
}
