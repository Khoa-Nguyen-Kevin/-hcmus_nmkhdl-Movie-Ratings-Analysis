{
 "cells": [
  {
   "cell_type": "markdown",
   "id": "83058564",
   "metadata": {},
   "source": [
    "# Collect data (Rotten Tomatoes)"
   ]
  },
  {
   "cell_type": "code",
   "execution_count": 68,
   "id": "9823e827",
   "metadata": {},
   "outputs": [],
   "source": [
    "import time\n",
    "import requests\n",
    "import numpy as np\n",
    "import pandas as pd\n",
    "from bs4 import BeautifulSoup\n",
    "import selenium\n",
    "from selenium import webdriver\n",
    "from selenium.webdriver.common.by import By"
   ]
  },
  {
   "cell_type": "markdown",
   "id": "096b8b6c",
   "metadata": {},
   "source": [
    "Collect movie links to crawl data, get these links based on movie genres"
   ]
  },
  {
   "cell_type": "code",
   "execution_count": 75,
   "id": "83a095d6",
   "metadata": {},
   "outputs": [
    {
     "name": "stdout",
     "output_type": "stream",
     "text": [
      "86\n",
      "86\n"
     ]
    }
   ],
   "source": [
    "links = []\n",
    "search_params = ['action','adventure','animation','anime','biography','comedy', 'crime', 'documentary', 'drama', 'entertainment',\n",
    "                 'faith_and_spirituality', 'fantasy', 'game_show', 'history', 'holiday', 'horror', 'kids_and_family', 'music', \n",
    "                 'musical', 'mystery_and_thriller', 'reality', 'romance', 'sci_fi', 'sports', 'western', 'war']\n",
    "# get links for movies\n",
    "for search in search_params:\n",
    "    response = requests.get(f\"https://www.rottentomatoes.com/browse/movies_at_home/genres:{search}?page=8\")\n",
    "    soup = BeautifulSoup(response.content, 'html.parser')\n",
    "    link_elements = soup.select('div > tile-dynamic > a')\n",
    "    for element in link_elements:\n",
    "        links.append(element['href'])\n",
    "print(len(links))\n",
    "links = list(set(links))#remove duplicated links\n",
    "print(len(links))"
   ]
  },
  {
   "cell_type": "markdown",
   "id": "85319a33",
   "metadata": {},
   "source": [
    "Remove links from links list that are already in the previous crawled data file"
   ]
  },
  {
   "cell_type": "code",
   "execution_count": 76,
   "id": "fb667b4b",
   "metadata": {},
   "outputs": [],
   "source": [
    "df = pd.read_csv('../../data/raw/data.csv')\n",
    "#remove crawled links\n",
    "for url in links[:]:\n",
    "    if (f\"https://www.rottentomatoes.com{url}\") in df['url'].values:\n",
    "        links.remove(url)"
   ]
  },
  {
   "cell_type": "code",
   "execution_count": 77,
   "id": "3d172196",
   "metadata": {},
   "outputs": [],
   "source": [
    "def get_element_text(soup, selector):\n",
    "    element = soup.select_one(selector)\n",
    "    text =''\n",
    "    if element:\n",
    "        text = element.get_text()\n",
    "        text = text.split()\n",
    "        text = ' '.join(text)\n",
    "    else:\n",
    "        text = ''\n",
    "    return text"
   ]
  },
  {
   "cell_type": "code",
   "execution_count": 78,
   "id": "efa5c5ba",
   "metadata": {},
   "outputs": [
    {
     "name": "stdout",
     "output_type": "stream",
     "text": [
      "10\n",
      "20\n",
      "30\n",
      "40\n",
      "50\n"
     ]
    }
   ],
   "source": [
    "#init lists to store values for attributes\n",
    "Name = []\n",
    "Genre = []\n",
    "Tomatometer_score = []\n",
    "Tomatometer_count = []\n",
    "Audience_score = []\n",
    "Audience_count = []\n",
    "Runtime = []\n",
    "Classification_rating = []\n",
    "Release_year = []\n",
    "Original_language = []\n",
    "Urls = []\n",
    "        \n",
    "def expand_shadow_element(element):\n",
    "  shadow_root = driver.execute_script('return arguments[0].shadowRoot', element)\n",
    "  return shadow_root\n",
    "\n",
    "count = 0        \n",
    "#crawl data movies\n",
    "for url in links:\n",
    "    response = requests.get(f\"https://www.rottentomatoes.com{url}\")\n",
    "    soup = BeautifulSoup(response.content, 'html.parser')\n",
    "    #name\n",
    "    name = get_element_text(soup, '#scoreboard > h1')\n",
    "    Name.append(name)\n",
    "\n",
    "    #tomatometer rate and audience rate (these two have to be crawled seperatedly since they're inside Shadow DOM object)\n",
    "    driver = webdriver.Chrome()\n",
    "    driver.get(f\"https://www.rottentomatoes.com{url}\")\n",
    "    root1 = driver.find_element(By.CSS_SELECTOR, \"#scoreboard\")\n",
    "    shadow_root1 = expand_shadow_element(root1)\n",
    "    root2a = shadow_root1.find_element(By.CSS_SELECTOR,'div > div.scores-container > div.tomatometer-container > div > score-icon-critic-deprecated')\n",
    "    shadow_root2a = expand_shadow_element(root2a)\n",
    "    root2b = shadow_root1.find_element(By.CSS_SELECTOR,'div > div.scores-container > div.audience-container > div > score-icon-audience-deprecated')\n",
    "    shadow_root2b = expand_shadow_element(root2b) \n",
    "    tomatometer_score = shadow_root2a.find_element(By.CSS_SELECTOR,'div > span.percentage').text\n",
    "    audience_score = shadow_root2b.find_element(By.CSS_SELECTOR,'div > span.percentage').text\n",
    "    driver.quit()\n",
    "    Tomatometer_score.append(tomatometer_score)\n",
    "    Audience_score.append(audience_score)\n",
    "\n",
    "    #number of tomatometers\n",
    "    tomatometer_count = get_element_text(soup, '#scoreboard > a:nth-child(3)')\n",
    "    tomatometer_count = tomatometer_count.split(\" \")[0]\n",
    "    Tomatometer_count.append(tomatometer_count)\n",
    "\n",
    "    #number of audiences\n",
    "    audience_count = get_element_text(soup, '#scoreboard > a:nth-child(4)')\n",
    "    audience_count = audience_count.split(\" \")[0]\n",
    "    Audience_count.append(audience_count)\n",
    "\n",
    "    #runtime\n",
    "    runtime = get_element_text(soup,'#scoreboard > p')\n",
    "    runtime = runtime.split(\", \")[-1]\n",
    "    Runtime.append(runtime)\n",
    "\n",
    "    #release\n",
    "    year = get_element_text(soup,'#scoreboard > p')\n",
    "    year = year.split(\", \")[0]\n",
    "    Release_year.append(year)\n",
    "\n",
    "    contents= ['','','']\n",
    "    for i in range(5):\n",
    "        temp = get_element_text(soup, f'#info > li:nth-child({i}) > p > b')\n",
    "        content = get_element_text(soup, f'#info > li:nth-child({i}) > p > span')\n",
    "        if(temp == 'Rating:'):\n",
    "            #classification\n",
    "            contents[0] = content\n",
    "        if(temp == 'Genre:'):\n",
    "            #genre\n",
    "            contents[1] = content\n",
    "        if(temp == 'Original Language:'):\n",
    "            #language\n",
    "            contents[2] = content\n",
    "    Classification_rating.append(contents[0])\n",
    "    Genre.append(contents[1])\n",
    "    Original_language.append(contents[2])\n",
    "\n",
    "    #link\n",
    "    Urls.append(\"https://www.rottentomatoes.com\" + url)\n",
    "    \n",
    "    count +=1\n",
    "    if(count % 10 == 0):\n",
    "        print(count)\n",
    "    #if(count == 100): #set count limit for each crawling time\n",
    "     #   break"
   ]
  },
  {
   "cell_type": "code",
   "execution_count": 79,
   "id": "4a281a0a",
   "metadata": {},
   "outputs": [],
   "source": [
    "data = pd.DataFrame({'name':Name,\n",
    "                     'genre':Genre,\n",
    "                     'tomatometer_score': Tomatometer_score,\n",
    "                     'tomatometer_count':Tomatometer_count,\n",
    "                     'audience_score': Audience_score,\n",
    "                     'audience_count': Audience_count,\n",
    "                     'classification':Classification_rating,\n",
    "                     'runtime':Runtime, \n",
    "                     'release_year':Release_year,\n",
    "                     'original_language':Original_language,\n",
    "                     'url':Urls})\n",
    "data\n",
    "data.to_csv('../../data/raw/data.csv', mode='a', header=False,index=False)"
   ]
  },
  {
   "cell_type": "code",
   "execution_count": 80,
   "id": "763b7a1c",
   "metadata": {},
   "outputs": [
    {
     "name": "stdout",
     "output_type": "stream",
     "text": [
      "(1215, 11)\n"
     ]
    }
   ],
   "source": [
    "df_copy = pd.read_csv('../../data/raw/data.csv')\n",
    "df_copy = df_copy.drop_duplicates()\n",
    "\n",
    "print(df_copy.shape)"
   ]
  },
  {
   "cell_type": "code",
   "execution_count": null,
   "id": "5f3b4316",
   "metadata": {},
   "outputs": [],
   "source": []
  }
 ],
 "metadata": {
  "kernelspec": {
   "display_name": "Python 3 (ipykernel)",
   "language": "python",
   "name": "python3"
  },
  "language_info": {
   "codemirror_mode": {
    "name": "ipython",
    "version": 3
   },
   "file_extension": ".py",
   "mimetype": "text/x-python",
   "name": "python",
   "nbconvert_exporter": "python",
   "pygments_lexer": "ipython3",
   "version": "3.8.17"
  }
 },
 "nbformat": 4,
 "nbformat_minor": 5
}
