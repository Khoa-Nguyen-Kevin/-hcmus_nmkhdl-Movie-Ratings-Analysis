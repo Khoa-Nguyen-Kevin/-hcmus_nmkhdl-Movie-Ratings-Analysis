{
 "cells": [
  {
   "cell_type": "markdown",
   "metadata": {},
   "source": [
    "## Setup"
   ]
  },
  {
   "cell_type": "code",
   "execution_count": 51,
   "metadata": {},
   "outputs": [],
   "source": [
    "import numpy as np\n",
    "import pandas as pd\n",
    "from sklearn.model_selection import train_test_split, cross_val_score, KFold\n",
    "from sklearn.linear_model import LinearRegression\n",
    "import movecolumn as mc\n",
    "from sklearn.metrics import mean_squared_error as mse\n"
   ]
  },
  {
   "cell_type": "markdown",
   "metadata": {},
   "source": [
    "## Prepare data"
   ]
  },
  {
   "cell_type": "code",
   "execution_count": 52,
   "metadata": {},
   "outputs": [
    {
     "data": {
      "text/html": [
       "<div>\n",
       "<style scoped>\n",
       "    .dataframe tbody tr th:only-of-type {\n",
       "        vertical-align: middle;\n",
       "    }\n",
       "\n",
       "    .dataframe tbody tr th {\n",
       "        vertical-align: top;\n",
       "    }\n",
       "\n",
       "    .dataframe thead th {\n",
       "        text-align: right;\n",
       "    }\n",
       "</style>\n",
       "<table border=\"1\" class=\"dataframe\">\n",
       "  <thead>\n",
       "    <tr style=\"text-align: right;\">\n",
       "      <th></th>\n",
       "      <th>name</th>\n",
       "      <th>genre</th>\n",
       "      <th>tomatometer_score</th>\n",
       "      <th>tomatometer_count</th>\n",
       "      <th>audience_score</th>\n",
       "      <th>audience_count</th>\n",
       "      <th>classification</th>\n",
       "      <th>runtime</th>\n",
       "      <th>release_year</th>\n",
       "      <th>original_language</th>\n",
       "    </tr>\n",
       "  </thead>\n",
       "  <tbody>\n",
       "    <tr>\n",
       "      <th>160</th>\n",
       "      <td>Turning Red</td>\n",
       "      <td>Kids &amp; family</td>\n",
       "      <td>0.95</td>\n",
       "      <td>287.0</td>\n",
       "      <td>0.68</td>\n",
       "      <td>5000.0</td>\n",
       "      <td>PG</td>\n",
       "      <td>100.0</td>\n",
       "      <td>2022</td>\n",
       "      <td>English</td>\n",
       "    </tr>\n",
       "    <tr>\n",
       "      <th>666</th>\n",
       "      <td>Till</td>\n",
       "      <td>Drama</td>\n",
       "      <td>0.96</td>\n",
       "      <td>192.0</td>\n",
       "      <td>0.97</td>\n",
       "      <td>500.0</td>\n",
       "      <td>PG-13</td>\n",
       "      <td>130.0</td>\n",
       "      <td>2022</td>\n",
       "      <td>English</td>\n",
       "    </tr>\n",
       "    <tr>\n",
       "      <th>645</th>\n",
       "      <td>Spider-Man</td>\n",
       "      <td>Action</td>\n",
       "      <td>0.90</td>\n",
       "      <td>249.0</td>\n",
       "      <td>0.67</td>\n",
       "      <td>250000.0</td>\n",
       "      <td>PG-13</td>\n",
       "      <td>116.0</td>\n",
       "      <td>2002</td>\n",
       "      <td>English</td>\n",
       "    </tr>\n",
       "    <tr>\n",
       "      <th>1105</th>\n",
       "      <td>Bullet Train</td>\n",
       "      <td>Action</td>\n",
       "      <td>0.54</td>\n",
       "      <td>340.0</td>\n",
       "      <td>0.76</td>\n",
       "      <td>5000.0</td>\n",
       "      <td>R</td>\n",
       "      <td>126.0</td>\n",
       "      <td>2022</td>\n",
       "      <td>English</td>\n",
       "    </tr>\n",
       "    <tr>\n",
       "      <th>133</th>\n",
       "      <td>Beau Is Afraid</td>\n",
       "      <td>Adventure</td>\n",
       "      <td>0.67</td>\n",
       "      <td>260.0</td>\n",
       "      <td>0.71</td>\n",
       "      <td>250.0</td>\n",
       "      <td>R</td>\n",
       "      <td>179.0</td>\n",
       "      <td>2023</td>\n",
       "      <td>English</td>\n",
       "    </tr>\n",
       "  </tbody>\n",
       "</table>\n",
       "</div>"
      ],
      "text/plain": [
       "                name          genre  tomatometer_score  tomatometer_count  \\\n",
       "160      Turning Red  Kids & family               0.95              287.0   \n",
       "666             Till          Drama               0.96              192.0   \n",
       "645       Spider-Man         Action               0.90              249.0   \n",
       "1105    Bullet Train         Action               0.54              340.0   \n",
       "133   Beau Is Afraid      Adventure               0.67              260.0   \n",
       "\n",
       "      audience_score  audience_count classification  runtime  release_year  \\\n",
       "160             0.68          5000.0             PG    100.0          2022   \n",
       "666             0.97           500.0          PG-13    130.0          2022   \n",
       "645             0.67        250000.0          PG-13    116.0          2002   \n",
       "1105            0.76          5000.0              R    126.0          2022   \n",
       "133             0.71           250.0              R    179.0          2023   \n",
       "\n",
       "     original_language  \n",
       "160            English  \n",
       "666            English  \n",
       "645            English  \n",
       "1105           English  \n",
       "133            English  "
      ]
     },
     "execution_count": 52,
     "metadata": {},
     "output_type": "execute_result"
    }
   ],
   "source": [
    "df = pd.read_csv('../../data/processed/data.csv')\n",
    "df.sample(5)"
   ]
  },
  {
   "cell_type": "markdown",
   "metadata": {},
   "source": [
    "Now, we will drop the 'name' column, as it is not useful for the model.\n"
   ]
  },
  {
   "cell_type": "code",
   "execution_count": 53,
   "metadata": {},
   "outputs": [],
   "source": [
    "df = df.drop(columns='name')"
   ]
  },
  {
   "cell_type": "markdown",
   "metadata": {},
   "source": [
    "In the 'original_language' column, we just need the main language."
   ]
  },
  {
   "cell_type": "code",
   "execution_count": 54,
   "metadata": {},
   "outputs": [],
   "source": [
    "df['original_language'] = df['original_language'].str.split(' ').str[0]"
   ]
  },
  {
   "cell_type": "markdown",
   "metadata": {},
   "source": [
    "Now, we perform one-hot encoding on the categorical columns."
   ]
  },
  {
   "cell_type": "code",
   "execution_count": 55,
   "metadata": {},
   "outputs": [],
   "source": [
    "cols_to_onehot = ['original_language', 'genre', 'classification']\n",
    "df = pd.get_dummies(df, columns=cols_to_onehot)\n"
   ]
  },
  {
   "cell_type": "markdown",
   "metadata": {},
   "source": [
    "We will move the target column to the end of the dataframe and then fill the missing values with mean."
   ]
  },
  {
   "cell_type": "code",
   "execution_count": 56,
   "metadata": {},
   "outputs": [],
   "source": [
    "df = mc.MoveToLast(df, 'audience_score')\n",
    "df.fillna(df.mean(), inplace=True)"
   ]
  },
  {
   "cell_type": "markdown",
   "metadata": {},
   "source": [
    "## Data splitting"
   ]
  },
  {
   "cell_type": "code",
   "execution_count": 57,
   "metadata": {},
   "outputs": [],
   "source": [
    "X_train, X_test, y_train, y_test = train_test_split(df.drop(columns='audience_score'), df['audience_score'], test_size=0.1)"
   ]
  },
  {
   "cell_type": "markdown",
   "metadata": {},
   "source": [
    "## Data modeling\n",
    "**Model 1**: Linear Regression\n",
    "- Reason: We want to predict the audience score, which is a continuous variable. Therefore, we will use linear regression."
   ]
  },
  {
   "cell_type": "code",
   "execution_count": 58,
   "metadata": {},
   "outputs": [],
   "source": [
    "kfold = KFold(n_splits=10, shuffle=True)\n",
    "LinearRegressionModel = LinearRegression()\n",
    "## Mô hinh sử dụng tất cả các thuộc tính\n",
    "first_model = X_train\n",
    "first_model_test = X_test\n",
    "first_model_name = 'All Features'\n",
    "\n",
    "## Mô hình không sử dụng \"tomatometer_count\" và \"tomatometer_score\"\n",
    "second_model = X_train.drop(columns=['tomatometer_count', 'tomatometer_score'])\n",
    "second_model_test = X_test.drop(columns=['tomatometer_count', 'tomatometer_score'])\n",
    "second_model_name = 'Without tomatometer_count and tomatometer_score'\n",
    "\n",
    "# Mô hình không sử dụng \"tomatometer_score\"\n",
    "third_model = X_train.drop(columns=['tomatometer_score'])\n",
    "third_model_test = X_test.drop(columns=['tomatometer_score'])\n",
    "third_model_name = 'Without tomatometer_score'\n",
    "\n",
    "\n",
    "models_train = [first_model, second_model, third_model]\n",
    "models_test = [first_model_test, second_model_test, third_model_test]\n",
    "models_name = [first_model_name, second_model_name, third_model_name]\n",
    "average_mse = np.zeros(len(models_train))\n",
    "average_mse = [np.abs(cross_val_score(LinearRegression(fit_intercept=False), model, y_train, cv=kfold, scoring='neg_mean_squared_error').mean()) for model in models_train]\n",
    "data = []\n",
    "for i in range(len(models_train)):\n",
    "    data.append([models_name[i], average_mse[i]])\n",
    "res_df = pd.DataFrame(data, columns=['Mô hình', 'MSE'])\n",
    "res_df.sort_values(['MSE'], inplace=True)"
   ]
  },
  {
   "cell_type": "code",
   "execution_count": 59,
   "metadata": {},
   "outputs": [],
   "source": [
    "# Huấn luyện lại mô hình my_best_model trên toàn bộ tập huấn luyện\n",
    "best_model_index = np.argmin(average_mse)\n",
    "my_best_model = LinearRegression(fit_intercept=False).fit(models_train[best_model_index], y_train)"
   ]
  },
  {
   "cell_type": "code",
   "execution_count": 60,
   "metadata": {},
   "outputs": [
    {
     "name": "stdout",
     "output_type": "stream",
     "text": [
      "MSE trên tập kiểm tra:  0.026695296081372874\n"
     ]
    }
   ],
   "source": [
    "# Gọi hàm MAE (tự cài đặt hoặc từ thư viện) trên tập kiểm tra với mô hình my_best_model\n",
    "y_hat_best = my_best_model.predict(models_test[best_model_index])\n",
    "print(\"MSE trên tập kiểm tra: \", mse(y_test, y_hat_best))"
   ]
  }
 ],
 "metadata": {
  "kernelspec": {
   "display_name": "Python 3",
   "language": "python",
   "name": "python3"
  },
  "language_info": {
   "codemirror_mode": {
    "name": "ipython",
    "version": 3
   },
   "file_extension": ".py",
   "mimetype": "text/x-python",
   "name": "python",
   "nbconvert_exporter": "python",
   "pygments_lexer": "ipython3",
   "version": "3.11.4"
  }
 },
 "nbformat": 4,
 "nbformat_minor": 2
}
