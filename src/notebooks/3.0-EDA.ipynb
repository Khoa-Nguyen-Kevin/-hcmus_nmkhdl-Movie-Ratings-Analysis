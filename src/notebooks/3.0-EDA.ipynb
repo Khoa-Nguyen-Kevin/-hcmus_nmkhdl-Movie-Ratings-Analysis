{
 "cells": [
  {
   "cell_type": "markdown",
   "metadata": {},
   "source": [
    "## Setup"
   ]
  },
  {
   "cell_type": "code",
   "execution_count": 199,
   "metadata": {},
   "outputs": [],
   "source": [
    "import pandas as pd\n",
    "import numpy as np\n",
    "import matplotlib.pyplot as plt\n",
    "import warnings\n",
    "warnings.filterwarnings('ignore')"
   ]
  },
  {
   "cell_type": "markdown",
   "metadata": {},
   "source": [
    "## Exploring data"
   ]
  },
  {
   "cell_type": "code",
   "execution_count": 200,
   "metadata": {},
   "outputs": [
    {
     "data": {
      "text/html": [
       "<div>\n",
       "<style scoped>\n",
       "    .dataframe tbody tr th:only-of-type {\n",
       "        vertical-align: middle;\n",
       "    }\n",
       "\n",
       "    .dataframe tbody tr th {\n",
       "        vertical-align: top;\n",
       "    }\n",
       "\n",
       "    .dataframe thead th {\n",
       "        text-align: right;\n",
       "    }\n",
       "</style>\n",
       "<table border=\"1\" class=\"dataframe\">\n",
       "  <thead>\n",
       "    <tr style=\"text-align: right;\">\n",
       "      <th></th>\n",
       "      <th>name</th>\n",
       "      <th>genre</th>\n",
       "      <th>tomatometer_score</th>\n",
       "      <th>tomatometer_count</th>\n",
       "      <th>audience_score</th>\n",
       "      <th>audience_count</th>\n",
       "      <th>classification</th>\n",
       "      <th>runtime</th>\n",
       "      <th>release_year</th>\n",
       "      <th>original_language</th>\n",
       "    </tr>\n",
       "  </thead>\n",
       "  <tbody>\n",
       "    <tr>\n",
       "      <th>947</th>\n",
       "      <td>The Dark Knight</td>\n",
       "      <td>Action</td>\n",
       "      <td>0.94</td>\n",
       "      <td>346.0</td>\n",
       "      <td>0.94</td>\n",
       "      <td>250000.0</td>\n",
       "      <td>PG-13</td>\n",
       "      <td>152.0</td>\n",
       "      <td>2008</td>\n",
       "      <td>English</td>\n",
       "    </tr>\n",
       "    <tr>\n",
       "      <th>161</th>\n",
       "      <td>Fifty Shades Darker</td>\n",
       "      <td>Romance</td>\n",
       "      <td>0.11</td>\n",
       "      <td>209.0</td>\n",
       "      <td>0.47</td>\n",
       "      <td>25000.0</td>\n",
       "      <td>R</td>\n",
       "      <td>118.0</td>\n",
       "      <td>2017</td>\n",
       "      <td>English</td>\n",
       "    </tr>\n",
       "    <tr>\n",
       "      <th>557</th>\n",
       "      <td>It</td>\n",
       "      <td>Horror</td>\n",
       "      <td>0.86</td>\n",
       "      <td>388.0</td>\n",
       "      <td>0.84</td>\n",
       "      <td>50000.0</td>\n",
       "      <td>R</td>\n",
       "      <td>135.0</td>\n",
       "      <td>2017</td>\n",
       "      <td>English</td>\n",
       "    </tr>\n",
       "    <tr>\n",
       "      <th>899</th>\n",
       "      <td>Beautiful Disaster</td>\n",
       "      <td>Romance</td>\n",
       "      <td>0.29</td>\n",
       "      <td>7.0</td>\n",
       "      <td>0.54</td>\n",
       "      <td>500.0</td>\n",
       "      <td>R</td>\n",
       "      <td>96.0</td>\n",
       "      <td>2023</td>\n",
       "      <td>English</td>\n",
       "    </tr>\n",
       "    <tr>\n",
       "      <th>1183</th>\n",
       "      <td>Annie</td>\n",
       "      <td>Kids &amp; family</td>\n",
       "      <td>0.29</td>\n",
       "      <td>161.0</td>\n",
       "      <td>0.59</td>\n",
       "      <td>50000.0</td>\n",
       "      <td>PG</td>\n",
       "      <td>118.0</td>\n",
       "      <td>2014</td>\n",
       "      <td>English</td>\n",
       "    </tr>\n",
       "    <tr>\n",
       "      <th>958</th>\n",
       "      <td>The Jester</td>\n",
       "      <td>Horror</td>\n",
       "      <td>0.29</td>\n",
       "      <td>7.0</td>\n",
       "      <td>0.35</td>\n",
       "      <td>50.0</td>\n",
       "      <td>Not Rated</td>\n",
       "      <td>90.0</td>\n",
       "      <td>2023</td>\n",
       "      <td>English</td>\n",
       "    </tr>\n",
       "    <tr>\n",
       "      <th>4</th>\n",
       "      <td>1917</td>\n",
       "      <td>War</td>\n",
       "      <td>0.89</td>\n",
       "      <td>472.0</td>\n",
       "      <td>0.88</td>\n",
       "      <td>25000.0</td>\n",
       "      <td>R</td>\n",
       "      <td>119.0</td>\n",
       "      <td>2019</td>\n",
       "      <td>English</td>\n",
       "    </tr>\n",
       "    <tr>\n",
       "      <th>1025</th>\n",
       "      <td>Godzilla: King of the Monsters</td>\n",
       "      <td>Sci-fi</td>\n",
       "      <td>0.42</td>\n",
       "      <td>353.0</td>\n",
       "      <td>0.83</td>\n",
       "      <td>25000.0</td>\n",
       "      <td>PG-13</td>\n",
       "      <td>132.0</td>\n",
       "      <td>2019</td>\n",
       "      <td>English</td>\n",
       "    </tr>\n",
       "    <tr>\n",
       "      <th>793</th>\n",
       "      <td>Home for the Holidays</td>\n",
       "      <td>Holiday</td>\n",
       "      <td>0.64</td>\n",
       "      <td>50.0</td>\n",
       "      <td>0.72</td>\n",
       "      <td>10000.0</td>\n",
       "      <td>PG-13</td>\n",
       "      <td>103.0</td>\n",
       "      <td>1995</td>\n",
       "      <td>English</td>\n",
       "    </tr>\n",
       "    <tr>\n",
       "      <th>37</th>\n",
       "      <td>White Men Can't Jump</td>\n",
       "      <td>Comedy</td>\n",
       "      <td>0.26</td>\n",
       "      <td>88.0</td>\n",
       "      <td>0.60</td>\n",
       "      <td>500.0</td>\n",
       "      <td>R</td>\n",
       "      <td>101.0</td>\n",
       "      <td>2023</td>\n",
       "      <td>English</td>\n",
       "    </tr>\n",
       "  </tbody>\n",
       "</table>\n",
       "</div>"
      ],
      "text/plain": [
       "                                name          genre  tomatometer_score  \\\n",
       "947                  The Dark Knight         Action               0.94   \n",
       "161              Fifty Shades Darker        Romance               0.11   \n",
       "557                               It         Horror               0.86   \n",
       "899               Beautiful Disaster        Romance               0.29   \n",
       "1183                           Annie  Kids & family               0.29   \n",
       "958                       The Jester         Horror               0.29   \n",
       "4                               1917            War               0.89   \n",
       "1025  Godzilla: King of the Monsters         Sci-fi               0.42   \n",
       "793            Home for the Holidays        Holiday               0.64   \n",
       "37              White Men Can't Jump         Comedy               0.26   \n",
       "\n",
       "      tomatometer_count  audience_score  audience_count classification  \\\n",
       "947               346.0            0.94        250000.0          PG-13   \n",
       "161               209.0            0.47         25000.0              R   \n",
       "557               388.0            0.84         50000.0              R   \n",
       "899                 7.0            0.54           500.0              R   \n",
       "1183              161.0            0.59         50000.0             PG   \n",
       "958                 7.0            0.35            50.0      Not Rated   \n",
       "4                 472.0            0.88         25000.0              R   \n",
       "1025              353.0            0.83         25000.0          PG-13   \n",
       "793                50.0            0.72         10000.0          PG-13   \n",
       "37                 88.0            0.60           500.0              R   \n",
       "\n",
       "      runtime  release_year original_language  \n",
       "947     152.0          2008           English  \n",
       "161     118.0          2017           English  \n",
       "557     135.0          2017           English  \n",
       "899      96.0          2023           English  \n",
       "1183    118.0          2014           English  \n",
       "958      90.0          2023           English  \n",
       "4       119.0          2019           English  \n",
       "1025    132.0          2019           English  \n",
       "793     103.0          1995           English  \n",
       "37      101.0          2023           English  "
      ]
     },
     "execution_count": 200,
     "metadata": {},
     "output_type": "execute_result"
    }
   ],
   "source": [
    "df = pd.read_csv('../../data/processed/data.csv')\n",
    "df.sample(10)"
   ]
  },
  {
   "cell_type": "code",
   "execution_count": 201,
   "metadata": {},
   "outputs": [
    {
     "name": "stdout",
     "output_type": "stream",
     "text": [
      "<class 'pandas.core.frame.DataFrame'>\n",
      "RangeIndex: 1215 entries, 0 to 1214\n",
      "Data columns (total 10 columns):\n",
      " #   Column             Non-Null Count  Dtype  \n",
      "---  ------             --------------  -----  \n",
      " 0   name               1215 non-null   object \n",
      " 1   genre              1215 non-null   object \n",
      " 2   tomatometer_score  1162 non-null   float64\n",
      " 3   tomatometer_count  1208 non-null   float64\n",
      " 4   audience_score     1192 non-null   float64\n",
      " 5   audience_count     1192 non-null   float64\n",
      " 6   classification     1215 non-null   object \n",
      " 7   runtime            1210 non-null   float64\n",
      " 8   release_year       1215 non-null   int64  \n",
      " 9   original_language  1215 non-null   object \n",
      "dtypes: float64(5), int64(1), object(4)\n",
      "memory usage: 95.1+ KB\n"
     ]
    }
   ],
   "source": [
    "df.info()"
   ]
  },
  {
   "cell_type": "markdown",
   "metadata": {},
   "source": [
    "**Question**: For each genre, what would the correlation between tomatometer score and audience be ? \n",
    "\n",
    "**Purpose**: To see if there are any genres that are fit for both critics and audience."
   ]
  },
  {
   "cell_type": "markdown",
   "metadata": {},
   "source": [
    "### Prepare data for exploration"
   ]
  },
  {
   "cell_type": "markdown",
   "metadata": {},
   "source": [
    "We need to find the missing ration for tomato meter and audience score. "
   ]
  },
  {
   "cell_type": "code",
   "execution_count": 202,
   "metadata": {},
   "outputs": [
    {
     "name": "stdout",
     "output_type": "stream",
     "text": [
      "Tomatometer missing: 4.36%\n",
      "Audience missing: 1.89%\n"
     ]
    }
   ],
   "source": [
    "tomato_missing = df[\"tomatometer_score\"].isna().sum() / len(df)\n",
    "audience_missing = df[\"audience_score\"].isna().sum() / len(df)\n",
    "print(f\"Tomatometer missing: {tomato_missing:.2%}\")\n",
    "print(f\"Audience missing: {audience_missing:.2%}\")"
   ]
  },
  {
   "cell_type": "markdown",
   "metadata": {},
   "source": [
    "These values are not too big, so we can fill them with the mean of the column."
   ]
  },
  {
   "cell_type": "code",
   "execution_count": 203,
   "metadata": {},
   "outputs": [],
   "source": [
    "df[\"tomatometer_score\"].fillna(df[\"tomatometer_score\"].mean(), inplace=True)\n",
    "df[\"audience_score\"].fillna(df[\"audience_score\"].mean(), inplace=True)"
   ]
  },
  {
   "cell_type": "code",
   "execution_count": 204,
   "metadata": {},
   "outputs": [
    {
     "name": "stdout",
     "output_type": "stream",
     "text": [
      "Number of genres: 21\n",
      "Genres: ['Action' 'Adventure' 'Anime' 'Biography' 'Comedy' 'Crime' 'Documentary'\n",
      " 'Drama' 'Fantasy' 'Game show' 'History' 'Holiday' 'Horror'\n",
      " 'Kids & family' 'Music' 'Musical' 'Mystery & thriller' 'Romance' 'Sci-fi'\n",
      " 'War' 'Western']\n"
     ]
    }
   ],
   "source": [
    "genres = np.unique(df['genre'])\n",
    "print(f'Number of genres: {len(genres)}')\n",
    "print(f'Genres: {genres}')"
   ]
  },
  {
   "cell_type": "markdown",
   "metadata": {},
   "source": [
    "We see that there are 21 genres in total and there are 2 genres that are related to each other. They are \"Music\" and \"Musical\". In this case, we really don't need to have both of them. So, we will combine them into one genre called \"Music/Musical\"."
   ]
  },
  {
   "cell_type": "code",
   "execution_count": 205,
   "metadata": {},
   "outputs": [],
   "source": [
    "df['genre'] = df['genre'].replace([\"Music\", \"Musical\"], \"Music/ Musical\")\n",
    "genres = np.unique(df['genre'])\n"
   ]
  },
  {
   "cell_type": "markdown",
   "metadata": {},
   "source": [
    "Now, we need to count the number of movies in each genre. We will use this information to see if there are any genres that should be removed from the dataset."
   ]
  },
  {
   "cell_type": "code",
   "execution_count": 206,
   "metadata": {},
   "outputs": [
    {
     "name": "stdout",
     "output_type": "stream",
     "text": [
      "Number of Action movies: 107\n",
      "Number of Adventure movies: 22\n",
      "Number of Anime movies: 2\n",
      "Number of Biography movies: 71\n",
      "Number of Comedy movies: 107\n",
      "Number of Crime movies: 45\n",
      "Number of Documentary movies: 95\n",
      "Number of Drama movies: 68\n",
      "Number of Fantasy movies: 30\n",
      "Number of Game show movies: 1\n",
      "Number of History movies: 42\n",
      "Number of Holiday movies: 75\n",
      "Number of Horror movies: 79\n",
      "Number of Kids & family movies: 155\n",
      "Number of Music/ Musical movies: 42\n",
      "Number of Mystery & thriller movies: 67\n",
      "Number of Romance movies: 60\n",
      "Number of Sci-fi movies: 73\n",
      "Number of War movies: 36\n",
      "Number of Western movies: 38\n"
     ]
    }
   ],
   "source": [
    "for genre in genres:\n",
    "    print(f'Number of {genre} movies: {len(df[df[\"genre\"] == genre])}')"
   ]
  },
  {
   "cell_type": "markdown",
   "metadata": {},
   "source": [
    "We see that there are 2 genres that have less than 10 movies. They are \"Anime\" and \"Game show\". We will not consider these genres in our analysis."
   ]
  },
  {
   "cell_type": "code",
   "execution_count": 207,
   "metadata": {},
   "outputs": [
    {
     "name": "stdout",
     "output_type": "stream",
     "text": [
      "['Action' 'Adventure' 'Biography' 'Comedy' 'Crime' 'Documentary' 'Drama'\n",
      " 'Fantasy' 'History' 'Holiday' 'Horror' 'Kids & family' 'Music/ Musical'\n",
      " 'Mystery & thriller' 'Romance' 'Sci-fi' 'War' 'Western']\n"
     ]
    }
   ],
   "source": [
    "genres = np.delete(genres, np.where((genres == \"Anime\") | (genres == \"Game show\")))\n",
    "print(genres)"
   ]
  },
  {
   "cell_type": "markdown",
   "metadata": {},
   "source": [
    "Next, we create a dataframe that contains the correlation between tomatometer score and audience score for each genre. We will use this dataframe to create a bar chart."
   ]
  },
  {
   "cell_type": "code",
   "execution_count": 208,
   "metadata": {},
   "outputs": [
    {
     "data": {
      "text/html": [
       "<div>\n",
       "<style scoped>\n",
       "    .dataframe tbody tr th:only-of-type {\n",
       "        vertical-align: middle;\n",
       "    }\n",
       "\n",
       "    .dataframe tbody tr th {\n",
       "        vertical-align: top;\n",
       "    }\n",
       "\n",
       "    .dataframe thead th {\n",
       "        text-align: right;\n",
       "    }\n",
       "</style>\n",
       "<table border=\"1\" class=\"dataframe\">\n",
       "  <thead>\n",
       "    <tr style=\"text-align: right;\">\n",
       "      <th></th>\n",
       "      <th>Correlation</th>\n",
       "    </tr>\n",
       "  </thead>\n",
       "  <tbody>\n",
       "    <tr>\n",
       "      <th>Adventure</th>\n",
       "      <td>-0.009375</td>\n",
       "    </tr>\n",
       "    <tr>\n",
       "      <th>Drama</th>\n",
       "      <td>0.339137</td>\n",
       "    </tr>\n",
       "    <tr>\n",
       "      <th>Horror</th>\n",
       "      <td>0.35832</td>\n",
       "    </tr>\n",
       "    <tr>\n",
       "      <th>Documentary</th>\n",
       "      <td>0.364369</td>\n",
       "    </tr>\n",
       "    <tr>\n",
       "      <th>Biography</th>\n",
       "      <td>0.397751</td>\n",
       "    </tr>\n",
       "    <tr>\n",
       "      <th>Comedy</th>\n",
       "      <td>0.447956</td>\n",
       "    </tr>\n",
       "    <tr>\n",
       "      <th>Romance</th>\n",
       "      <td>0.465817</td>\n",
       "    </tr>\n",
       "    <tr>\n",
       "      <th>War</th>\n",
       "      <td>0.494754</td>\n",
       "    </tr>\n",
       "    <tr>\n",
       "      <th>History</th>\n",
       "      <td>0.530546</td>\n",
       "    </tr>\n",
       "    <tr>\n",
       "      <th>Holiday</th>\n",
       "      <td>0.537941</td>\n",
       "    </tr>\n",
       "    <tr>\n",
       "      <th>Sci-fi</th>\n",
       "      <td>0.56566</td>\n",
       "    </tr>\n",
       "    <tr>\n",
       "      <th>Western</th>\n",
       "      <td>0.576417</td>\n",
       "    </tr>\n",
       "    <tr>\n",
       "      <th>Action</th>\n",
       "      <td>0.611406</td>\n",
       "    </tr>\n",
       "    <tr>\n",
       "      <th>Crime</th>\n",
       "      <td>0.62482</td>\n",
       "    </tr>\n",
       "    <tr>\n",
       "      <th>Fantasy</th>\n",
       "      <td>0.652367</td>\n",
       "    </tr>\n",
       "    <tr>\n",
       "      <th>Mystery &amp; thriller</th>\n",
       "      <td>0.658869</td>\n",
       "    </tr>\n",
       "    <tr>\n",
       "      <th>Kids &amp; family</th>\n",
       "      <td>0.680442</td>\n",
       "    </tr>\n",
       "    <tr>\n",
       "      <th>Music/ Musical</th>\n",
       "      <td>0.726135</td>\n",
       "    </tr>\n",
       "  </tbody>\n",
       "</table>\n",
       "</div>"
      ],
      "text/plain": [
       "                   Correlation\n",
       "Adventure            -0.009375\n",
       "Drama                 0.339137\n",
       "Horror                 0.35832\n",
       "Documentary           0.364369\n",
       "Biography             0.397751\n",
       "Comedy                0.447956\n",
       "Romance               0.465817\n",
       "War                   0.494754\n",
       "History               0.530546\n",
       "Holiday               0.537941\n",
       "Sci-fi                 0.56566\n",
       "Western               0.576417\n",
       "Action                0.611406\n",
       "Crime                  0.62482\n",
       "Fantasy               0.652367\n",
       "Mystery & thriller    0.658869\n",
       "Kids & family         0.680442\n",
       "Music/ Musical        0.726135"
      ]
     },
     "execution_count": 208,
     "metadata": {},
     "output_type": "execute_result"
    }
   ],
   "source": [
    "df_genre = pd.DataFrame(columns=['Correlation'], index=genres)\n",
    "for genre in genres:\n",
    "    df_genre.loc[genre] = df[df['genre'] == genre]['tomatometer_score'].corr(df[df['genre'] == genre]['audience_score'])\n",
    "df_genre.sort_values(by=['Correlation'], inplace=True)\n",
    "df_genre"
   ]
  },
  {
   "cell_type": "code",
   "execution_count": 209,
   "metadata": {},
   "outputs": [
    {
     "data": {
      "text/plain": [
       "[Text(0, 0, 'Adventure'),\n",
       " Text(1, 0, 'Drama'),\n",
       " Text(2, 0, 'Horror'),\n",
       " Text(3, 0, 'Documentary'),\n",
       " Text(4, 0, 'Biography'),\n",
       " Text(5, 0, 'Comedy'),\n",
       " Text(6, 0, 'Romance'),\n",
       " Text(7, 0, 'War'),\n",
       " Text(8, 0, 'History'),\n",
       " Text(9, 0, 'Holiday'),\n",
       " Text(10, 0, 'Sci-fi'),\n",
       " Text(11, 0, 'Western'),\n",
       " Text(12, 0, 'Action'),\n",
       " Text(13, 0, 'Crime'),\n",
       " Text(14, 0, 'Fantasy'),\n",
       " Text(15, 0, 'Mystery & thriller'),\n",
       " Text(16, 0, 'Kids & family'),\n",
       " Text(17, 0, 'Music/ Musical')]"
      ]
     },
     "execution_count": 209,
     "metadata": {},
     "output_type": "execute_result"
    },
    {
     "data": {
      "image/png": "[encoded data removed]",
      "text/plain": [
       "<Figure size 2000x1000 with 1 Axes>"
      ]
     },
     "metadata": {},
     "output_type": "display_data"
    }
   ],
   "source": [
    "fig, ax = plt.subplots(figsize=(20, 10), tight_layout=True)\n",
    "\n",
    "ax.bar(df_genre.index, df_genre['Correlation'])\n",
    "ax.set_title('Correlation between Tomatometer and Audience Score by Genre')\n",
    "ax.set_xlabel('Genre', fontsize=12)\n",
    "ax.set_ylabel('Correlation', fontsize=12)\n",
    "ax.set_xticklabels(df_genre.index, rotation=30)"
   ]
  },
  {
   "cell_type": "markdown",
   "metadata": {},
   "source": [
    "**Insight**: The genre that has the highest correlation between tomatometer score and audience score is \"Music/ Musical\". The genre that has the lowest correlation between tomatometer score and audience score is \"Adventure\". Apart from these two genres, the rest of the genres have a correlation lies between 0.3 and 0.7, which can be considered as a moderate correlation. Only the \"Adventure\" genre has a negative correlation. \n",
    "\n",
    "**Why Music/Musical has the highest correlation?**\n",
    "- Musicals allow for a wide range of emotions to be conveyed through song and dance. This can be a powerful way to connect with an audience and create an immersive experience. \n",
    "- Musicals often tell stories that are both entertaining and relatable, making them easy to enjoy. \n",
    "- The music in musicals is often catchy and memorable, making them enjoyable to listen to even after the show is over.\n",
    "\n",
    "**Why Adventure has the lowest correlation?**\n",
    "- While adventure movies are often exciting and fun to watch, they can also be quite predictable, which makes them less engaging for critics. \n",
    "- Audiences tend to enjoy adventure movies more than critics because they are less concerned with the plot and more interested in the action and adventure.\n",
    "- Critics are often more interested in the plot and character development, which is not a strong point for adventure movies. "
   ]
  }
 ],
 "metadata": {
  "kernelspec": {
   "display_name": "Python 3",
   "language": "python",
   "name": "python3"
  },
  "language_info": {
   "codemirror_mode": {
    "name": "ipython",
    "version": 3
   },
   "file_extension": ".py",
   "mimetype": "text/x-python",
   "name": "python",
   "nbconvert_exporter": "python",
   "pygments_lexer": "ipython3",
   "version": "0.0.0"
  }
 },
 "nbformat": 4,
 "nbformat_minor": 2
}
