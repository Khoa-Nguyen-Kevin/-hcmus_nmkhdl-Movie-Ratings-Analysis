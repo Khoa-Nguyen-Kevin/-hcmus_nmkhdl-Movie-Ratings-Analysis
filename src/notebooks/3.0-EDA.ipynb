{
 "cells": [
  {
   "cell_type": "markdown",
   "metadata": {},
   "source": [
    "## Setup"
   ]
  },
  {
   "cell_type": "code",
   "execution_count": 2,
   "metadata": {},
   "outputs": [],
   "source": [
    "import pandas as pd\n",
    "import numpy as np\n",
    "import matplotlib.pyplot as plt\n",
    "import seaborn as sns\n"
   ]
  },
  {
   "cell_type": "markdown",
   "metadata": {},
   "source": [
    "## Exploring data"
   ]
  },
  {
   "cell_type": "code",
   "execution_count": 5,
   "metadata": {},
   "outputs": [
    {
     "data": {
      "text/html": [
       "<div>\n",
       "<style scoped>\n",
       "    .dataframe tbody tr th:only-of-type {\n",
       "        vertical-align: middle;\n",
       "    }\n",
       "\n",
       "    .dataframe tbody tr th {\n",
       "        vertical-align: top;\n",
       "    }\n",
       "\n",
       "    .dataframe thead th {\n",
       "        text-align: right;\n",
       "    }\n",
       "</style>\n",
       "<table border=\"1\" class=\"dataframe\">\n",
       "  <thead>\n",
       "    <tr style=\"text-align: right;\">\n",
       "      <th></th>\n",
       "      <th>name</th>\n",
       "      <th>genre</th>\n",
       "      <th>tomatometer_score</th>\n",
       "      <th>tomatometer_count</th>\n",
       "      <th>audience_score</th>\n",
       "      <th>audience_count</th>\n",
       "      <th>classification</th>\n",
       "      <th>runtime</th>\n",
       "      <th>release_year</th>\n",
       "      <th>original_language</th>\n",
       "    </tr>\n",
       "  </thead>\n",
       "  <tbody>\n",
       "    <tr>\n",
       "      <th>0</th>\n",
       "      <td>A Castle for Christmas</td>\n",
       "      <td>Holiday</td>\n",
       "      <td>0.74</td>\n",
       "      <td>23.0</td>\n",
       "      <td>0.40</td>\n",
       "      <td>100.0</td>\n",
       "      <td>Not Rated</td>\n",
       "      <td>98.0</td>\n",
       "      <td>2021</td>\n",
       "      <td>English</td>\n",
       "    </tr>\n",
       "    <tr>\n",
       "      <th>1</th>\n",
       "      <td>Pinocchio</td>\n",
       "      <td>Kids &amp; family</td>\n",
       "      <td>1.00</td>\n",
       "      <td>61.0</td>\n",
       "      <td>0.73</td>\n",
       "      <td>250000.0</td>\n",
       "      <td>G</td>\n",
       "      <td>87.0</td>\n",
       "      <td>1940</td>\n",
       "      <td>English</td>\n",
       "    </tr>\n",
       "    <tr>\n",
       "      <th>2</th>\n",
       "      <td>The Informer</td>\n",
       "      <td>Mystery &amp; thriller</td>\n",
       "      <td>0.64</td>\n",
       "      <td>58.0</td>\n",
       "      <td>0.60</td>\n",
       "      <td>250.0</td>\n",
       "      <td>R</td>\n",
       "      <td>113.0</td>\n",
       "      <td>2019</td>\n",
       "      <td>English</td>\n",
       "    </tr>\n",
       "    <tr>\n",
       "      <th>3</th>\n",
       "      <td>They Cloned Tyrone</td>\n",
       "      <td>Sci-fi</td>\n",
       "      <td>0.95</td>\n",
       "      <td>129.0</td>\n",
       "      <td>1.00</td>\n",
       "      <td>25.0</td>\n",
       "      <td>R</td>\n",
       "      <td>122.0</td>\n",
       "      <td>2023</td>\n",
       "      <td>English</td>\n",
       "    </tr>\n",
       "    <tr>\n",
       "      <th>4</th>\n",
       "      <td>1917</td>\n",
       "      <td>War</td>\n",
       "      <td>0.89</td>\n",
       "      <td>472.0</td>\n",
       "      <td>0.88</td>\n",
       "      <td>25000.0</td>\n",
       "      <td>R</td>\n",
       "      <td>119.0</td>\n",
       "      <td>2019</td>\n",
       "      <td>English</td>\n",
       "    </tr>\n",
       "  </tbody>\n",
       "</table>\n",
       "</div>"
      ],
      "text/plain": [
       "                     name               genre  tomatometer_score  \\\n",
       "0  A Castle for Christmas             Holiday               0.74   \n",
       "1               Pinocchio       Kids & family               1.00   \n",
       "2            The Informer  Mystery & thriller               0.64   \n",
       "3      They Cloned Tyrone              Sci-fi               0.95   \n",
       "4                    1917                 War               0.89   \n",
       "\n",
       "   tomatometer_count  audience_score  audience_count classification  runtime  \\\n",
       "0               23.0            0.40           100.0      Not Rated     98.0   \n",
       "1               61.0            0.73        250000.0              G     87.0   \n",
       "2               58.0            0.60           250.0              R    113.0   \n",
       "3              129.0            1.00            25.0              R    122.0   \n",
       "4              472.0            0.88         25000.0              R    119.0   \n",
       "\n",
       "   release_year original_language  \n",
       "0          2021           English  \n",
       "1          1940           English  \n",
       "2          2019           English  \n",
       "3          2023           English  \n",
       "4          2019           English  "
      ]
     },
     "execution_count": 5,
     "metadata": {},
     "output_type": "execute_result"
    }
   ],
   "source": [
    "df = pd.read_csv('../../data/processed/data.csv')\n",
    "df.head()"
   ]
  },
  {
   "cell_type": "markdown",
   "metadata": {},
   "source": [
    "**Question**: For each genre, what would the correlation between tomatometer score and audience be ? \n",
    "\n",
    "**Purpose**: To see if there are any genres that are fit for both critics and audience."
   ]
  },
  {
   "cell_type": "code",
   "execution_count": 10,
   "metadata": {},
   "outputs": [
    {
     "data": {
      "text/plain": [
       "array(['Action', 'Adventure', 'Anime', 'Biography', 'Comedy', 'Crime',\n",
       "       'Documentary', 'Drama', 'Fantasy', 'Game show', 'History',\n",
       "       'Holiday', 'Horror', 'Kids & family', 'Music', 'Musical',\n",
       "       'Mystery & thriller', 'Romance', 'Sci-fi', 'War', 'Western'],\n",
       "      dtype=object)"
      ]
     },
     "execution_count": 10,
     "metadata": {},
     "output_type": "execute_result"
    }
   ],
   "source": [
    "genres = np.unique(df['genre'])\n",
    "genres"
   ]
  }
 ],
 "metadata": {
  "kernelspec": {
   "display_name": "Python 3",
   "language": "python",
   "name": "python3"
  },
  "language_info": {
   "codemirror_mode": {
    "name": "ipython",
    "version": 3
   },
   "file_extension": ".py",
   "mimetype": "text/x-python",
   "name": "python",
   "nbconvert_exporter": "python",
   "pygments_lexer": "ipython3",
   "version": "3.11.4"
  }
 },
 "nbformat": 4,
 "nbformat_minor": 2
}
