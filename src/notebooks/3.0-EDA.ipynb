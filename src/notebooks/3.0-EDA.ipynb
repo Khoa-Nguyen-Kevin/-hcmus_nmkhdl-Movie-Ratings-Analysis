{
 "cells": [
  {
   "cell_type": "markdown",
   "metadata": {},
   "source": [
    "## Setup"
   ]
  },
  {
   "cell_type": "code",
   "execution_count": 126,
   "metadata": {},
   "outputs": [],
   "source": [
    "import pandas as pd\n",
    "import numpy as np\n",
    "import matplotlib.pyplot as plt\n",
    "import seaborn as sns\n"
   ]
  },
  {
   "cell_type": "markdown",
   "metadata": {},
   "source": [
    "## Exploring data"
   ]
  },
  {
   "cell_type": "code",
   "execution_count": 127,
   "metadata": {},
   "outputs": [
    {
     "data": {
      "text/html": [
       "<div>\n",
       "<style scoped>\n",
       "    .dataframe tbody tr th:only-of-type {\n",
       "        vertical-align: middle;\n",
       "    }\n",
       "\n",
       "    .dataframe tbody tr th {\n",
       "        vertical-align: top;\n",
       "    }\n",
       "\n",
       "    .dataframe thead th {\n",
       "        text-align: right;\n",
       "    }\n",
       "</style>\n",
       "<table border=\"1\" class=\"dataframe\">\n",
       "  <thead>\n",
       "    <tr style=\"text-align: right;\">\n",
       "      <th></th>\n",
       "      <th>name</th>\n",
       "      <th>genre</th>\n",
       "      <th>tomatometer_score</th>\n",
       "      <th>tomatometer_count</th>\n",
       "      <th>audience_score</th>\n",
       "      <th>audience_count</th>\n",
       "      <th>classification</th>\n",
       "      <th>runtime</th>\n",
       "      <th>release_year</th>\n",
       "      <th>original_language</th>\n",
       "    </tr>\n",
       "  </thead>\n",
       "  <tbody>\n",
       "    <tr>\n",
       "      <th>700</th>\n",
       "      <td>Sully</td>\n",
       "      <td>Drama</td>\n",
       "      <td>0.85</td>\n",
       "      <td>348.0</td>\n",
       "      <td>0.84</td>\n",
       "      <td>25000.0</td>\n",
       "      <td>PG-13</td>\n",
       "      <td>96.0</td>\n",
       "      <td>2016</td>\n",
       "      <td>English</td>\n",
       "    </tr>\n",
       "    <tr>\n",
       "      <th>1174</th>\n",
       "      <td>Zombies 3</td>\n",
       "      <td>Adventure</td>\n",
       "      <td>0.75</td>\n",
       "      <td>8.0</td>\n",
       "      <td>0.60</td>\n",
       "      <td>100.0</td>\n",
       "      <td>Not Rated</td>\n",
       "      <td>91.0</td>\n",
       "      <td>2022</td>\n",
       "      <td>English</td>\n",
       "    </tr>\n",
       "    <tr>\n",
       "      <th>951</th>\n",
       "      <td>Black Hawk Down</td>\n",
       "      <td>War</td>\n",
       "      <td>0.77</td>\n",
       "      <td>175.0</td>\n",
       "      <td>0.88</td>\n",
       "      <td>250000.0</td>\n",
       "      <td>R</td>\n",
       "      <td>144.0</td>\n",
       "      <td>2001</td>\n",
       "      <td>English</td>\n",
       "    </tr>\n",
       "    <tr>\n",
       "      <th>838</th>\n",
       "      <td>Once Upon a Time... In Hollywood</td>\n",
       "      <td>Comedy</td>\n",
       "      <td>0.85</td>\n",
       "      <td>584.0</td>\n",
       "      <td>0.70</td>\n",
       "      <td>25000.0</td>\n",
       "      <td>R</td>\n",
       "      <td>159.0</td>\n",
       "      <td>2019</td>\n",
       "      <td>English</td>\n",
       "    </tr>\n",
       "    <tr>\n",
       "      <th>690</th>\n",
       "      <td>Vice</td>\n",
       "      <td>Biography</td>\n",
       "      <td>0.65</td>\n",
       "      <td>369.0</td>\n",
       "      <td>0.60</td>\n",
       "      <td>5000.0</td>\n",
       "      <td>R</td>\n",
       "      <td>132.0</td>\n",
       "      <td>2018</td>\n",
       "      <td>English</td>\n",
       "    </tr>\n",
       "    <tr>\n",
       "      <th>634</th>\n",
       "      <td>Widows</td>\n",
       "      <td>Mystery &amp; thriller</td>\n",
       "      <td>0.91</td>\n",
       "      <td>427.0</td>\n",
       "      <td>0.61</td>\n",
       "      <td>5000.0</td>\n",
       "      <td>R</td>\n",
       "      <td>128.0</td>\n",
       "      <td>2018</td>\n",
       "      <td>English</td>\n",
       "    </tr>\n",
       "    <tr>\n",
       "      <th>45</th>\n",
       "      <td>Edward Scissorhands</td>\n",
       "      <td>Holiday</td>\n",
       "      <td>0.89</td>\n",
       "      <td>66.0</td>\n",
       "      <td>0.91</td>\n",
       "      <td>250000.0</td>\n",
       "      <td>PG-13</td>\n",
       "      <td>105.0</td>\n",
       "      <td>1990</td>\n",
       "      <td>English</td>\n",
       "    </tr>\n",
       "    <tr>\n",
       "      <th>211</th>\n",
       "      <td>Blaze</td>\n",
       "      <td>Biography</td>\n",
       "      <td>0.95</td>\n",
       "      <td>92.0</td>\n",
       "      <td>0.67</td>\n",
       "      <td>500.0</td>\n",
       "      <td>R</td>\n",
       "      <td>127.0</td>\n",
       "      <td>2018</td>\n",
       "      <td>English</td>\n",
       "    </tr>\n",
       "    <tr>\n",
       "      <th>438</th>\n",
       "      <td>The Devil on Trial</td>\n",
       "      <td>Crime</td>\n",
       "      <td>0.36</td>\n",
       "      <td>14.0</td>\n",
       "      <td>0.46</td>\n",
       "      <td>50.0</td>\n",
       "      <td>Not Rated</td>\n",
       "      <td>81.0</td>\n",
       "      <td>2023</td>\n",
       "      <td>English</td>\n",
       "    </tr>\n",
       "    <tr>\n",
       "      <th>1147</th>\n",
       "      <td>Flags of Our Fathers</td>\n",
       "      <td>War</td>\n",
       "      <td>0.76</td>\n",
       "      <td>240.0</td>\n",
       "      <td>0.69</td>\n",
       "      <td>250000.0</td>\n",
       "      <td>R</td>\n",
       "      <td>132.0</td>\n",
       "      <td>2006</td>\n",
       "      <td>English</td>\n",
       "    </tr>\n",
       "  </tbody>\n",
       "</table>\n",
       "</div>"
      ],
      "text/plain": [
       "                                  name               genre  tomatometer_score  \\\n",
       "700                              Sully               Drama               0.85   \n",
       "1174                         Zombies 3           Adventure               0.75   \n",
       "951                    Black Hawk Down                 War               0.77   \n",
       "838   Once Upon a Time... In Hollywood              Comedy               0.85   \n",
       "690                               Vice           Biography               0.65   \n",
       "634                             Widows  Mystery & thriller               0.91   \n",
       "45                 Edward Scissorhands             Holiday               0.89   \n",
       "211                              Blaze           Biography               0.95   \n",
       "438                 The Devil on Trial               Crime               0.36   \n",
       "1147              Flags of Our Fathers                 War               0.76   \n",
       "\n",
       "      tomatometer_count  audience_score  audience_count classification  \\\n",
       "700               348.0            0.84         25000.0          PG-13   \n",
       "1174                8.0            0.60           100.0      Not Rated   \n",
       "951               175.0            0.88        250000.0              R   \n",
       "838               584.0            0.70         25000.0              R   \n",
       "690               369.0            0.60          5000.0              R   \n",
       "634               427.0            0.61          5000.0              R   \n",
       "45                 66.0            0.91        250000.0          PG-13   \n",
       "211                92.0            0.67           500.0              R   \n",
       "438                14.0            0.46            50.0      Not Rated   \n",
       "1147              240.0            0.69        250000.0              R   \n",
       "\n",
       "      runtime  release_year original_language  \n",
       "700      96.0          2016           English  \n",
       "1174     91.0          2022           English  \n",
       "951     144.0          2001           English  \n",
       "838     159.0          2019           English  \n",
       "690     132.0          2018           English  \n",
       "634     128.0          2018           English  \n",
       "45      105.0          1990           English  \n",
       "211     127.0          2018           English  \n",
       "438      81.0          2023           English  \n",
       "1147    132.0          2006           English  "
      ]
     },
     "execution_count": 127,
     "metadata": {},
     "output_type": "execute_result"
    }
   ],
   "source": [
    "df = pd.read_csv('../../data/processed/data.csv')\n",
    "df.sample(10)"
   ]
  },
  {
   "cell_type": "code",
   "execution_count": 128,
   "metadata": {},
   "outputs": [
    {
     "name": "stdout",
     "output_type": "stream",
     "text": [
      "<class 'pandas.core.frame.DataFrame'>\n",
      "RangeIndex: 1215 entries, 0 to 1214\n",
      "Data columns (total 10 columns):\n",
      " #   Column             Non-Null Count  Dtype  \n",
      "---  ------             --------------  -----  \n",
      " 0   name               1215 non-null   object \n",
      " 1   genre              1215 non-null   object \n",
      " 2   tomatometer_score  1162 non-null   float64\n",
      " 3   tomatometer_count  1208 non-null   float64\n",
      " 4   audience_score     1192 non-null   float64\n",
      " 5   audience_count     1192 non-null   float64\n",
      " 6   classification     1215 non-null   object \n",
      " 7   runtime            1210 non-null   float64\n",
      " 8   release_year       1215 non-null   int64  \n",
      " 9   original_language  1215 non-null   object \n",
      "dtypes: float64(5), int64(1), object(4)\n",
      "memory usage: 95.1+ KB\n"
     ]
    }
   ],
   "source": [
    "df.info()"
   ]
  },
  {
   "cell_type": "markdown",
   "metadata": {},
   "source": [
    "**Question**: For each genre, what would the correlation between tomatometer score and audience be ? \n",
    "\n",
    "**Purpose**: To see if there are any genres that are fit for both critics and audience."
   ]
  },
  {
   "cell_type": "markdown",
   "metadata": {},
   "source": [
    "### Prepare data for exploration"
   ]
  },
  {
   "cell_type": "markdown",
   "metadata": {},
   "source": [
    "We need to find the missing ration for tomato meter and audience score. "
   ]
  },
  {
   "cell_type": "code",
   "execution_count": 129,
   "metadata": {},
   "outputs": [
    {
     "name": "stdout",
     "output_type": "stream",
     "text": [
      "Tomatometer missing: 4.36%\n",
      "Audience missing: 1.89%\n"
     ]
    }
   ],
   "source": [
    "tomato_missing = df[\"tomatometer_score\"].isna().sum() / len(df)\n",
    "audience_missing = df[\"audience_score\"].isna().sum() / len(df)\n",
    "print(f\"Tomatometer missing: {tomato_missing:.2%}\")\n",
    "print(f\"Audience missing: {audience_missing:.2%}\")"
   ]
  },
  {
   "cell_type": "markdown",
   "metadata": {},
   "source": [
    "These values are not too big, so we can fill them with the mean of the column."
   ]
  },
  {
   "cell_type": "code",
   "execution_count": 130,
   "metadata": {},
   "outputs": [],
   "source": [
    "df[\"tomatometer_score\"].fillna(df[\"tomatometer_score\"].mean(), inplace=True)\n",
    "df[\"audience_score\"].fillna(df[\"audience_score\"].mean(), inplace=True)"
   ]
  },
  {
   "cell_type": "code",
   "execution_count": 131,
   "metadata": {},
   "outputs": [
    {
     "name": "stdout",
     "output_type": "stream",
     "text": [
      "Number of genres: 21\n",
      "Genres: ['Action' 'Adventure' 'Anime' 'Biography' 'Comedy' 'Crime' 'Documentary'\n",
      " 'Drama' 'Fantasy' 'Game show' 'History' 'Holiday' 'Horror'\n",
      " 'Kids & family' 'Music' 'Musical' 'Mystery & thriller' 'Romance' 'Sci-fi'\n",
      " 'War' 'Western']\n"
     ]
    }
   ],
   "source": [
    "genres = np.unique(df['genre'])\n",
    "print(f'Number of genres: {len(genres)}')\n",
    "print(f'Genres: {genres}')"
   ]
  },
  {
   "cell_type": "markdown",
   "metadata": {},
   "source": [
    "We see that there are 21 genres in total and there are 2 genres that are related to each other. They are \"Music\" and \"Musical\". In this case, we really don't need to have both of them. So, we will combine them into one genre called \"Music/Musical\"."
   ]
  },
  {
   "cell_type": "code",
   "execution_count": 132,
   "metadata": {},
   "outputs": [],
   "source": [
    "df['genre'] = df['genre'].replace([\"Music\", \"Musical\"], \"Music/ Musical\")\n",
    "genres = np.unique(df['genre'])\n"
   ]
  },
  {
   "cell_type": "markdown",
   "metadata": {},
   "source": [
    "Now, we need to count the number of movies in each genre. We will use this information to see if there are any genres that should be removed from the dataset."
   ]
  },
  {
   "cell_type": "code",
   "execution_count": 135,
   "metadata": {},
   "outputs": [
    {
     "name": "stdout",
     "output_type": "stream",
     "text": [
      "Number of Action movies: 107\n",
      "Number of Adventure movies: 22\n",
      "Number of Anime movies: 2\n",
      "Number of Biography movies: 71\n",
      "Number of Comedy movies: 107\n",
      "Number of Crime movies: 45\n",
      "Number of Documentary movies: 95\n",
      "Number of Drama movies: 68\n",
      "Number of Fantasy movies: 30\n",
      "Number of Game show movies: 1\n",
      "Number of History movies: 42\n",
      "Number of Holiday movies: 75\n",
      "Number of Horror movies: 79\n",
      "Number of Kids & family movies: 155\n",
      "Number of Music/ Musical movies: 42\n",
      "Number of Mystery & thriller movies: 67\n",
      "Number of Romance movies: 60\n",
      "Number of Sci-fi movies: 73\n",
      "Number of War movies: 36\n",
      "Number of Western movies: 38\n"
     ]
    }
   ],
   "source": [
    "for genre in genres:\n",
    "    print(f'Number of {genre} movies: {len(df[df[\"genre\"] == genre])}')"
   ]
  },
  {
   "cell_type": "markdown",
   "metadata": {},
   "source": []
  },
  {
   "cell_type": "markdown",
   "metadata": {},
   "source": [
    "Next, we create a dataframe that contains the correlation between tomatometer score and audience score for each genre. We will use this dataframe to create a bar chart."
   ]
  },
  {
   "cell_type": "code",
   "execution_count": 133,
   "metadata": {},
   "outputs": [
    {
     "name": "stdout",
     "output_type": "stream",
     "text": [
      "17     0.730077\n",
      "287    0.730077\n",
      "Name: tomatometer_score, dtype: float64\n",
      "17     1.00\n",
      "287    0.83\n",
      "Name: audience_score, dtype: float64\n"
     ]
    },
    {
     "name": "stderr",
     "output_type": "stream",
     "text": [
      "c:\\Users\\ASUS\\AppData\\Local\\Programs\\Python\\Python311\\Lib\\site-packages\\numpy\\lib\\function_base.py:2846: RuntimeWarning: Degrees of freedom <= 0 for slice\n",
      "  c = cov(x, y, rowvar, dtype=dtype)\n",
      "c:\\Users\\ASUS\\AppData\\Local\\Programs\\Python\\Python311\\Lib\\site-packages\\numpy\\lib\\function_base.py:2705: RuntimeWarning: divide by zero encountered in divide\n",
      "  c *= np.true_divide(1, fact)\n"
     ]
    },
    {
     "data": {
      "text/html": [
       "<div>\n",
       "<style scoped>\n",
       "    .dataframe tbody tr th:only-of-type {\n",
       "        vertical-align: middle;\n",
       "    }\n",
       "\n",
       "    .dataframe tbody tr th {\n",
       "        vertical-align: top;\n",
       "    }\n",
       "\n",
       "    .dataframe thead th {\n",
       "        text-align: right;\n",
       "    }\n",
       "</style>\n",
       "<table border=\"1\" class=\"dataframe\">\n",
       "  <thead>\n",
       "    <tr style=\"text-align: right;\">\n",
       "      <th></th>\n",
       "      <th>Correlation</th>\n",
       "    </tr>\n",
       "  </thead>\n",
       "  <tbody>\n",
       "    <tr>\n",
       "      <th>Action</th>\n",
       "      <td>0.611406</td>\n",
       "    </tr>\n",
       "    <tr>\n",
       "      <th>Adventure</th>\n",
       "      <td>-0.009375</td>\n",
       "    </tr>\n",
       "    <tr>\n",
       "      <th>Anime</th>\n",
       "      <td>NaN</td>\n",
       "    </tr>\n",
       "    <tr>\n",
       "      <th>Biography</th>\n",
       "      <td>0.397751</td>\n",
       "    </tr>\n",
       "    <tr>\n",
       "      <th>Comedy</th>\n",
       "      <td>0.447956</td>\n",
       "    </tr>\n",
       "    <tr>\n",
       "      <th>Crime</th>\n",
       "      <td>0.62482</td>\n",
       "    </tr>\n",
       "    <tr>\n",
       "      <th>Documentary</th>\n",
       "      <td>0.364369</td>\n",
       "    </tr>\n",
       "    <tr>\n",
       "      <th>Drama</th>\n",
       "      <td>0.339137</td>\n",
       "    </tr>\n",
       "    <tr>\n",
       "      <th>Fantasy</th>\n",
       "      <td>0.652367</td>\n",
       "    </tr>\n",
       "    <tr>\n",
       "      <th>Game show</th>\n",
       "      <td>NaN</td>\n",
       "    </tr>\n",
       "    <tr>\n",
       "      <th>History</th>\n",
       "      <td>0.530546</td>\n",
       "    </tr>\n",
       "    <tr>\n",
       "      <th>Holiday</th>\n",
       "      <td>0.537941</td>\n",
       "    </tr>\n",
       "    <tr>\n",
       "      <th>Horror</th>\n",
       "      <td>0.35832</td>\n",
       "    </tr>\n",
       "    <tr>\n",
       "      <th>Kids &amp; family</th>\n",
       "      <td>0.680442</td>\n",
       "    </tr>\n",
       "    <tr>\n",
       "      <th>Music/ Musical</th>\n",
       "      <td>0.726135</td>\n",
       "    </tr>\n",
       "    <tr>\n",
       "      <th>Mystery &amp; thriller</th>\n",
       "      <td>0.658869</td>\n",
       "    </tr>\n",
       "    <tr>\n",
       "      <th>Romance</th>\n",
       "      <td>0.465817</td>\n",
       "    </tr>\n",
       "    <tr>\n",
       "      <th>Sci-fi</th>\n",
       "      <td>0.56566</td>\n",
       "    </tr>\n",
       "    <tr>\n",
       "      <th>War</th>\n",
       "      <td>0.494754</td>\n",
       "    </tr>\n",
       "    <tr>\n",
       "      <th>Western</th>\n",
       "      <td>0.576417</td>\n",
       "    </tr>\n",
       "  </tbody>\n",
       "</table>\n",
       "</div>"
      ],
      "text/plain": [
       "                   Correlation\n",
       "Action                0.611406\n",
       "Adventure            -0.009375\n",
       "Anime                      NaN\n",
       "Biography             0.397751\n",
       "Comedy                0.447956\n",
       "Crime                  0.62482\n",
       "Documentary           0.364369\n",
       "Drama                 0.339137\n",
       "Fantasy               0.652367\n",
       "Game show                  NaN\n",
       "History               0.530546\n",
       "Holiday               0.537941\n",
       "Horror                 0.35832\n",
       "Kids & family         0.680442\n",
       "Music/ Musical        0.726135\n",
       "Mystery & thriller    0.658869\n",
       "Romance               0.465817\n",
       "Sci-fi                 0.56566\n",
       "War                   0.494754\n",
       "Western               0.576417"
      ]
     },
     "execution_count": 133,
     "metadata": {},
     "output_type": "execute_result"
    }
   ],
   "source": [
    "df_genre = pd.DataFrame(columns=['Correlation'], index=genres)\n",
    "\n",
    "for genre in genres:\n",
    "    df_genre.loc[genre] = df[df['genre'] == genre]['tomatometer_score'].corr(df[df['genre'] == genre]['audience_score'])\n",
    "    if genre == 'Anime':\n",
    "        print(df[df['genre'] == genre]['tomatometer_score'])\n",
    "        print(df[df['genre'] == genre]['audience_score'])\n",
    "df_genre"
   ]
  },
  {
   "cell_type": "code",
   "execution_count": null,
   "metadata": {},
   "outputs": [],
   "source": []
  }
 ],
 "metadata": {
  "kernelspec": {
   "display_name": "Python 3",
   "language": "python",
   "name": "python3"
  },
  "language_info": {
   "codemirror_mode": {
    "name": "ipython",
    "version": 3
   },
   "file_extension": ".py",
   "mimetype": "text/x-python",
   "name": "python",
   "nbconvert_exporter": "python",
   "pygments_lexer": "ipython3",
   "version": "3.11.4"
  }
 },
 "nbformat": 4,
 "nbformat_minor": 2
}
