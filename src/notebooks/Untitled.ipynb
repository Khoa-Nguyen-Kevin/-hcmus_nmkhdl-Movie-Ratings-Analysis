{
 "cells": [
  {
   "cell_type": "code",
   "execution_count": 29,
   "id": "9823e827",
   "metadata": {},
   "outputs": [],
   "source": [
    "import time\n",
    "import requests\n",
    "import numpy as np\n",
    "import pandas as pd\n",
    "from bs4 import BeautifulSoup"
   ]
  },
  {
   "cell_type": "code",
   "execution_count": 60,
   "id": "83a095d6",
   "metadata": {},
   "outputs": [
    {
     "name": "stdout",
     "output_type": "stream",
     "text": [
      "<Response [200]>\n"
     ]
    }
   ],
   "source": [
    "name = []\n",
    "genre = []\n",
    "rating = []\n",
    "length = []\n",
    "classification_rating = []\n",
    "vote = []\n",
    "release_year = []\n",
    "country = []\n",
    "\n",
    "url = 'https://www.rottentomatoes.com/browse/movies_at_home/genres:action~sort:popular?page=5'\n",
    "response = requests.get(url)\n",
    "print(response)\n",
    "soup = BeautifulSoup(response.content, 'html.parser')\n",
    "links = soup.select('div > tile-dynamic > a')\n"
   ]
  },
  {
   "cell_type": "code",
   "execution_count": 61,
   "id": "d24bbaad",
   "metadata": {},
   "outputs": [
    {
     "name": "stdout",
     "output_type": "stream",
     "text": [
      "/m/the_killer_2023\n",
      "/m/the_creator_2023\n",
      "/m/blue_beetle\n",
      "/m/your_lucky_day\n",
      "/m/the_hunger_games_catching_fire\n",
      "/m/mission_impossible_dead_reckoning_part_one\n",
      "/m/the_equalizer_3\n",
      "/m/kandahar_2023\n",
      "/m/the_hunger_games_mockingjay_part_2\n",
      "/m/spider_man_across_the_spider_verse\n",
      "/m/the_hunger_games_mockingjay_part_1\n",
      "/m/gran_turismo_based_on_a_true_story\n",
      "/m/cold_pursuit\n",
      "/m/guy_ritchies_the_covenant\n",
      "/m/indiana_jones_and_the_dial_of_destiny\n",
      "/m/guardians_of_the_galaxy_vol_3\n",
      "/m/interstellar_2014\n",
      "/m/the_batman\n",
      "/m/ant_man_and_the_wasp_quantumania\n",
      "/m/the_flash_2023\n",
      "/m/dungeons_and_dragons_honor_among_thieves\n",
      "/m/captain_marvel\n",
      "/m/marvels_the_avengers\n",
      "/m/war_for_the_planet_of_the_apes\n",
      "/m/john_wick_chapter_4\n",
      "/m/sisu_2022\n",
      "/m/avengers_endgame\n",
      "/m/dune_2021\n",
      "/m/spider_man_no_way_home\n",
      "/m/thor_love_and_thunder\n",
      "/m/iron_man\n",
      "/m/onyx_the_fortuitous_and_the_talisman_of_souls\n",
      "/m/hypnotic_2023\n",
      "/m/triple_frontier\n",
      "/m/violent_night\n",
      "/m/renfield\n",
      "/m/dawn_of_the_planet_of_the_apes\n",
      "/m/eternals\n",
      "/m/expend4bles\n",
      "/m/avatar_the_way_of_water\n",
      "/m/57_seconds\n",
      "/m/transformers_rise_of_the_beasts\n",
      "/m/bullet_train_2022\n",
      "/m/gladiator\n",
      "/m/godzilla_vs_kong\n",
      "/m/top_gun_maverick\n",
      "/m/65\n",
      "/m/meg_2_the_trench\n",
      "/m/spider_man_into_the_spider_verse\n",
      "/m/assassin_club\n",
      "/m/plane\n",
      "/m/doctor_strange_in_the_multiverse_of_madness\n",
      "/m/godzilla_king_of_the_monsters_2019\n",
      "/m/the_355\n",
      "/m/strange_world\n",
      "/m/black_panther_wakanda_forever\n",
      "/m/the_retirement_plan\n",
      "/m/fast_x\n",
      "/m/sicario_2015\n",
      "/m/shang_chi_and_the_legend_of_the_ten_rings\n",
      "/m/the_dark_knight\n",
      "/m/polaris_2022\n",
      "/m/retribution_2023\n",
      "/m/to_catch_a_killer_2023\n",
      "/m/uncharted_2022\n",
      "/m/avengers_infinity_war\n",
      "/m/the_northman\n",
      "/m/all_quiet_on_the_western_front_2022\n",
      "/m/bone_tomahawk\n",
      "/m/godzilla_2014\n",
      "/m/the_nice_guys\n",
      "/m/the_accountant_2016\n",
      "/m/heart_of_stone_2023\n",
      "/m/prey_2022\n",
      "/m/the_suicide_squad\n",
      "/m/shazam_fury_of_the_gods\n",
      "/m/star_wars_the_rise_of_skywalker\n",
      "/m/star_wars_the_last_jedi\n",
      "/m/the_equalizer_2013\n",
      "/m/knights_of_the_zodiac\n",
      "/m/the_gray_man_2022\n",
      "/m/tenet\n",
      "/m/black_widow_2021\n",
      "/m/black_adam\n",
      "/m/no_time_to_die_2021\n",
      "/m/venom_2018\n",
      "/m/creed_iii\n",
      "/m/ghosted_2023\n",
      "/m/die_hard\n",
      "/m/inception\n",
      "/m/spider_man_far_from_home\n",
      "/m/zack_snyders_justice_league\n",
      "/m/next_three_days\n",
      "/m/free_guy\n",
      "/m/godzilla_resurgence\n",
      "/m/equalizer_2\n",
      "/m/the_machine_2023\n",
      "/m/the_mummy_2017\n",
      "/m/the_lost_city\n",
      "/m/train_to_busan\n",
      "/m/warhorse_one\n",
      "/m/desperation_road\n",
      "/m/black_noise_2023\n",
      "/m/rrr\n",
      "/m/iron_man_2\n",
      "/m/nimona\n",
      "/m/thor_ragnarok_2017\n",
      "/m/locked_in_2021\n",
      "/m/willys_wonderland\n",
      "/m/kong_skull_island\n",
      "/m/divergent\n",
      "/m/superman_man_of_steel\n",
      "/m/batman_v_superman_dawn_of_justice\n",
      "/m/operation_fortune_ruse_de_guerre\n",
      "/m/spider_man_homecoming\n",
      "/m/the_hitmans_bodyguard\n",
      "/m/jurassic_world_dominion\n",
      "/m/mad_max_fury_road\n",
      "/m/aquaman_2018\n",
      "/m/black_panther_2018\n",
      "/m/captain_america_civil_war\n"
     ]
    }
   ],
   "source": [
    "for link in links:\n",
    "    url = link['href']\n",
    "    print(url)"
   ]
  },
  {
   "cell_type": "code",
   "execution_count": 62,
   "id": "edff4f66",
   "metadata": {},
   "outputs": [
    {
     "name": "stdout",
     "output_type": "stream",
     "text": [
      "121\n"
     ]
    }
   ],
   "source": [
    "print(len(links))"
   ]
  },
  {
   "cell_type": "code",
   "execution_count": 9,
   "id": "0e4fc8cb",
   "metadata": {},
   "outputs": [
    {
     "name": "stdout",
     "output_type": "stream",
     "text": [
      "['/title/tt1136617/', '/title/tt10676048/', '/title/tt10545296/', '/title/tt18411490/', '/title/tt11057302/', '/title/tt4589218/', '/title/tt15398776/', '/title/tt11858890/', '/title/tt5537002/', '/title/tt13452446/', '/title/tt1448754/', '/title/tt13287846/', '/title/tt14998742/', '/title/tt17351924/', '/title/tt22687790/', '/title/tt22022452/', '/title/tt14849194/', '/title/tt15671028/', '/title/tt1517268/', '/title/tt9362722/', '/title/tt1392170/', '/title/tt15257160/', '/title/tt5302918/', '/title/tt9603212/', '/title/tt22041854/', '/title/tt11762114/', '/title/tt24870072/', '/title/tt15354916/', '/title/tt14362112/', '/title/tt26047818/', '/title/tt5779228/', '/title/tt18394190/', '/title/tt11304740/', '/title/tt14230458/', '/title/tt17009710/', '/title/tt13560574/', '/title/tt21942866/', '/title/tt13957560/', '/title/tt9362930/', '/title/tt13274016/', '/title/tt15654328/', '/title/tt10638522/', '/title/tt7599146/', '/title/tt6166392/', '/title/tt13405810/', '/title/tt10950320/', '/title/tt23289160/', '/title/tt16300962/', '/title/tt17024450/', '/title/tt21064584/', '/title/tt10767052/', '/title/tt21807222/', '/title/tt21235248/', '/title/tt1951264/', '/title/tt10366206/', '/title/tt5648882/', '/title/tt13651794/', '/title/tt7038762/', '/title/tt13848804/', '/title/tt11389872/', '/title/tt0099785/', '/title/tt0068646/', '/title/tt0816692/', '/title/tt0097958/', '/title/tt0241527/', '/title/tt0111161/', '/title/tt21335356/', '/title/tt4154664/', '/title/tt16304446/', '/title/tt6791350/', '/title/tt15789038/', '/title/tt6718170/', '/title/tt2096673/', '/title/tt0446029/', '/title/tt13968674/', '/title/tt0377092/', '/title/tt21867434/', '/title/tt1649419/', '/title/tt10160976/', '/title/tt6587046/', '/title/tt4495098/', '/title/tt13238346/', '/title/tt0314331/', '/title/tt1877830/', '/title/tt6263850/', '/title/tt14230388/', '/title/tt8002382/', '/title/tt0319343/', '/title/tt11426232/', '/title/tt21638298/', '/title/tt0993846/', '/title/tt1160419/', '/title/tt3291150/', '/title/tt3758542/', '/title/tt14813150/', '/title/tt2906216/', '/title/tt0088847/', '/title/tt12921446/', '/title/tt2267998/', '/title/tt8356942/']\n"
     ]
    }
   ],
   "source": [
    "import requests\n",
    "\n",
    "url = \"https://imdb8.p.rapidapi.com/title/get-most-popular-movies\"\n",
    "\n",
    "querystring = {\"homeCountry\":\"US\",\"purchaseCountry\":\"US\",\"currentCountry\":\"US\"}\n",
    "\n",
    "headers = {\n",
    "\t\"X-RapidAPI-Key\": \"4107846017msh8363d00dcf17604p1d1010jsn19fbd3a1c42c\",\n",
    "\t\"X-RapidAPI-Host\": \"imdb8.p.rapidapi.com\"\n",
    "}\n",
    "\n",
    "response = requests.get(url, headers=headers, params=querystring)\n",
    "\n",
    "print(response.json())"
   ]
  },
  {
   "cell_type": "code",
   "execution_count": 10,
   "id": "42de79fe",
   "metadata": {},
   "outputs": [
    {
     "name": "stdout",
     "output_type": "stream",
     "text": [
      "100\n"
     ]
    }
   ],
   "source": [
    "ids = response.json()\n",
    "print(len(ids))"
   ]
  },
  {
   "cell_type": "code",
   "execution_count": 11,
   "id": "aa79f613",
   "metadata": {},
   "outputs": [
    {
     "name": "stdout",
     "output_type": "stream",
     "text": [
      "{'genres': [{'description': 'Action', 'endpoint': '/chart/popular/genre/action'}, {'description': 'Adventure', 'endpoint': '/chart/popular/genre/adventure'}, {'description': 'Animation', 'endpoint': '/chart/popular/genre/animation'}, {'description': 'Biography', 'endpoint': '/chart/popular/genre/biography'}, {'description': 'Comedy', 'endpoint': '/chart/popular/genre/comedy'}, {'description': 'Crime', 'endpoint': '/chart/popular/genre/crime'}, {'description': 'Documentary', 'endpoint': '/chart/popular/genre/documentary'}, {'description': 'Drama', 'endpoint': '/chart/popular/genre/drama'}, {'description': 'Family', 'endpoint': '/chart/popular/genre/family'}, {'description': 'Fantasy', 'endpoint': '/chart/popular/genre/fantasy'}, {'description': 'Film-Noir', 'endpoint': '/chart/popular/genre/film_noir'}, {'description': 'History', 'endpoint': '/chart/popular/genre/history'}, {'description': 'Horror', 'endpoint': '/chart/popular/genre/horror'}, {'description': 'Music', 'endpoint': '/chart/popular/genre/music'}, {'description': 'Musical', 'endpoint': '/chart/popular/genre/musical'}, {'description': 'Mystery', 'endpoint': '/chart/popular/genre/mystery'}, {'description': 'Romance', 'endpoint': '/chart/popular/genre/romance'}, {'description': 'Sci-Fi', 'endpoint': '/chart/popular/genre/sci_fi'}, {'description': 'Sport', 'endpoint': '/chart/popular/genre/sport'}, {'description': 'Thriller', 'endpoint': '/chart/popular/genre/thriller'}, {'description': 'War', 'endpoint': '/chart/popular/genre/war'}, {'description': 'Western', 'endpoint': '/chart/popular/genre/western'}]}\n"
     ]
    }
   ],
   "source": [
    "url_genre = \"https://imdb8.p.rapidapi.com/title/list-popular-genres\"\n",
    "\n",
    "headers_genre = {\n",
    "\t\"X-RapidAPI-Key\": \"4107846017msh8363d00dcf17604p1d1010jsn19fbd3a1c42c\",\n",
    "\t\"X-RapidAPI-Host\": \"imdb8.p.rapidapi.com\"\n",
    "}\n",
    "\n",
    "response_genre = requests.get(url_genre, headers=headers_genre)\n",
    "\n",
    "print(response_genre.json())"
   ]
  },
  {
   "cell_type": "code",
   "execution_count": 16,
   "id": "4f3b9ca5",
   "metadata": {},
   "outputs": [
    {
     "name": "stdout",
     "output_type": "stream",
     "text": [
      "22\n"
     ]
    }
   ],
   "source": [
    "genres = response_genre.json()\n",
    "print(len(genres['genres']))"
   ]
  },
  {
   "cell_type": "code",
   "execution_count": 20,
   "id": "d749f858",
   "metadata": {},
   "outputs": [
    {
     "name": "stdout",
     "output_type": "stream",
     "text": [
      "['/title/tt1136617/', '/title/tt10676048/', '/title/tt10545296/', '/title/tt18411490/', '/title/tt11057302/', '/title/tt11858890/', '/title/tt13452446/', '/title/tt13287846/', '/title/tt14998742/', '/title/tt22022452/', '/title/tt1517268/', '/title/tt9362722/', '/title/tt1392170/', '/title/tt9603212/', '/title/tt14362112/', '/title/tt5779228/', '/title/tt11304740/', '/title/tt9362930/', '/title/tt6166392/', '/title/tt23289160/', '/title/tt21235248/', '/title/tt1951264/', '/title/tt13848804/', '/title/tt0816692/', '/title/tt0241527/', '/title/tt4154664/', '/title/tt6791350/', '/title/tt15789038/', '/title/tt6718170/', '/title/tt2096673/', '/title/tt6587046/', '/title/tt4495098/', '/title/tt0319343/', '/title/tt1160419/', '/title/tt3291150/', '/title/tt2906216/', '/title/tt15239678/', '/title/tt0361748/', '/title/tt10872600/', '/title/tt0172495/', '/title/tt1951266/', '/title/tt1951265/', '/title/tt9663764/', '/title/tt4154796/', '/title/tt1462764/', '/title/tt4513678/', '/title/tt15837338/', '/title/tt6710474/', '/title/tt0320661/', '/title/tt9218128/', '/title/tt0439572/', '/title/tt1375666/', '/title/tt5971474/', '/title/tt8589698/', '/title/tt0120737/', '/title/tt10676052/', '/title/tt10954600/', '/title/tt5433140/', '/title/tt15153532/', '/title/tt4633694/', '/title/tt1630029/', '/title/tt1446714/', '/title/tt0330373/', '/title/tt0338348/', '/title/tt6334354/', '/title/tt9224104/', '/title/tt10648342/', '/title/tt0063442/', '/title/tt0088763/', '/title/tt8790086/', '/title/tt5090568/', '/title/tt0107290/', '/title/tt1464335/', '/title/tt12261776/', '/title/tt0145487/', '/title/tt9419884/', '/title/tt9032400/', '/title/tt0093779/', '/title/tt0382932/', '/title/tt2382320/', '/title/tt0104431/', '/title/tt0090605/', '/title/tt0367594/', '/title/tt0060726/', '/title/tt0167260/', '/title/tt0304141/', '/title/tt1392190/', '/title/tt0472043/', '/title/tt0325980/', '/title/tt0363771/', '/title/tt0096754/', '/title/tt3915174/', '/title/tt2345759/', '/title/tt8337264/', '/title/tt6264654/', '/title/tt2278388/', '/title/tt4154756/', '/title/tt10151854/', '/title/tt0092005/', '/title/tt0245429/']\n"
     ]
    }
   ],
   "source": [
    "#get popular movies by genre\n",
    "url_movies = \"https://imdb8.p.rapidapi.com/title/v2/get-popular-movies-by-genre\"\n",
    "\n",
    "querystring_genre = {\"genre\":\"adventure\",\"limit\":\"100\"}\n",
    "\n",
    "headers_movies = {\n",
    "\t\"X-RapidAPI-Key\": \"4107846017msh8363d00dcf17604p1d1010jsn19fbd3a1c42c\",\n",
    "\t\"X-RapidAPI-Host\": \"imdb8.p.rapidapi.com\"\n",
    "}\n",
    "\n",
    "response_movies = requests.get(url_movies, headers=headers_movies, params=querystring_genre)\n",
    "\n",
    "print(response_movies.json())"
   ]
  },
  {
   "cell_type": "code",
   "execution_count": null,
   "id": "cae8fea9",
   "metadata": {},
   "outputs": [],
   "source": []
  }
 ],
 "metadata": {
  "kernelspec": {
   "display_name": "Python 3 (ipykernel)",
   "language": "python",
   "name": "python3"
  },
  "language_info": {
   "codemirror_mode": {
    "name": "ipython",
    "version": 3
   },
   "file_extension": ".py",
   "mimetype": "text/x-python",
   "name": "python",
   "nbconvert_exporter": "python",
   "pygments_lexer": "ipython3",
   "version": "3.8.17"
  }
 },
 "nbformat": 4,
 "nbformat_minor": 5
}
