{
 "cells": [
  {
   "cell_type": "markdown",
   "metadata": {},
   "source": [
    "# 2. Preprocessing"
   ]
  },
  {
   "cell_type": "markdown",
   "metadata": {},
   "source": [
    "## 2.0 Import libraries"
   ]
  },
  {
   "cell_type": "code",
   "execution_count": 289,
   "metadata": {},
   "outputs": [],
   "source": [
    "import pandas as pd\n",
    "import numpy as np\n",
    "import re"
   ]
  },
  {
   "cell_type": "markdown",
   "metadata": {},
   "source": [
    "## 2.1 Preprocessing + Exploring data"
   ]
  },
  {
   "cell_type": "code",
   "execution_count": 290,
   "metadata": {},
   "outputs": [
    {
     "data": {
      "text/html": [
       "<div>\n",
       "<style scoped>\n",
       "    .dataframe tbody tr th:only-of-type {\n",
       "        vertical-align: middle;\n",
       "    }\n",
       "\n",
       "    .dataframe tbody tr th {\n",
       "        vertical-align: top;\n",
       "    }\n",
       "\n",
       "    .dataframe thead th {\n",
       "        text-align: right;\n",
       "    }\n",
       "</style>\n",
       "<table border=\"1\" class=\"dataframe\">\n",
       "  <thead>\n",
       "    <tr style=\"text-align: right;\">\n",
       "      <th></th>\n",
       "      <th>name</th>\n",
       "      <th>genre</th>\n",
       "      <th>tomatometer_score</th>\n",
       "      <th>tomatometer_count</th>\n",
       "      <th>audience_score</th>\n",
       "      <th>audience_count</th>\n",
       "      <th>classification</th>\n",
       "      <th>runtime</th>\n",
       "      <th>release_year</th>\n",
       "      <th>original_language</th>\n",
       "      <th>url</th>\n",
       "    </tr>\n",
       "  </thead>\n",
       "  <tbody>\n",
       "    <tr>\n",
       "      <th>0</th>\n",
       "      <td>A Castle for Christmas</td>\n",
       "      <td>Holiday, Romance, Comedy</td>\n",
       "      <td>74%</td>\n",
       "      <td>23</td>\n",
       "      <td>40%</td>\n",
       "      <td>100+</td>\n",
       "      <td>NaN</td>\n",
       "      <td>1h 38m</td>\n",
       "      <td>2021</td>\n",
       "      <td>English</td>\n",
       "      <td>https://www.rottentomatoes.com/m/a_castle_for_...</td>\n",
       "    </tr>\n",
       "    <tr>\n",
       "      <th>1</th>\n",
       "      <td>Pinocchio</td>\n",
       "      <td>Kids &amp; family, Fantasy, Animation</td>\n",
       "      <td>100%</td>\n",
       "      <td>61</td>\n",
       "      <td>73%</td>\n",
       "      <td>250,000+</td>\n",
       "      <td>G</td>\n",
       "      <td>1h 27m</td>\n",
       "      <td>1940</td>\n",
       "      <td>English</td>\n",
       "      <td>https://www.rottentomatoes.com/m/pinocchio_1940</td>\n",
       "    </tr>\n",
       "    <tr>\n",
       "      <th>2</th>\n",
       "      <td>The Informer</td>\n",
       "      <td>Mystery &amp; thriller, Crime, Drama</td>\n",
       "      <td>64%</td>\n",
       "      <td>58</td>\n",
       "      <td>60%</td>\n",
       "      <td>250+</td>\n",
       "      <td>R (Strong Violence|Pervasive Language)</td>\n",
       "      <td>1h 53m</td>\n",
       "      <td>2019</td>\n",
       "      <td>English</td>\n",
       "      <td>https://www.rottentomatoes.com/m/the_informer_...</td>\n",
       "    </tr>\n",
       "    <tr>\n",
       "      <th>3</th>\n",
       "      <td>They Cloned Tyrone</td>\n",
       "      <td>Sci-fi, Comedy</td>\n",
       "      <td>95%</td>\n",
       "      <td>129</td>\n",
       "      <td>100%</td>\n",
       "      <td>Fewer</td>\n",
       "      <td>R (Violence|Drug Use|Some Sexual Material|Perv...</td>\n",
       "      <td>2h 2m</td>\n",
       "      <td>2023</td>\n",
       "      <td>English</td>\n",
       "      <td>https://www.rottentomatoes.com/m/they_cloned_t...</td>\n",
       "    </tr>\n",
       "    <tr>\n",
       "      <th>4</th>\n",
       "      <td>1917</td>\n",
       "      <td>War, History, Drama</td>\n",
       "      <td>89%</td>\n",
       "      <td>472</td>\n",
       "      <td>88%</td>\n",
       "      <td>25,000+</td>\n",
       "      <td>R (Some Disturbing Images|Language|Violence)</td>\n",
       "      <td>1h 59m</td>\n",
       "      <td>2019</td>\n",
       "      <td>English</td>\n",
       "      <td>https://www.rottentomatoes.com/m/1917_2019</td>\n",
       "    </tr>\n",
       "  </tbody>\n",
       "</table>\n",
       "</div>"
      ],
      "text/plain": [
       "                     name                              genre   \n",
       "0  A Castle for Christmas           Holiday, Romance, Comedy  \\\n",
       "1               Pinocchio  Kids & family, Fantasy, Animation   \n",
       "2            The Informer   Mystery & thriller, Crime, Drama   \n",
       "3      They Cloned Tyrone                     Sci-fi, Comedy   \n",
       "4                    1917                War, History, Drama   \n",
       "\n",
       "  tomatometer_score tomatometer_count audience_score audience_count   \n",
       "0               74%                23            40%           100+  \\\n",
       "1              100%                61            73%       250,000+   \n",
       "2               64%                58            60%           250+   \n",
       "3               95%               129           100%          Fewer   \n",
       "4               89%               472            88%        25,000+   \n",
       "\n",
       "                                      classification runtime  release_year   \n",
       "0                                                NaN  1h 38m          2021  \\\n",
       "1                                                  G  1h 27m          1940   \n",
       "2             R (Strong Violence|Pervasive Language)  1h 53m          2019   \n",
       "3  R (Violence|Drug Use|Some Sexual Material|Perv...   2h 2m          2023   \n",
       "4       R (Some Disturbing Images|Language|Violence)  1h 59m          2019   \n",
       "\n",
       "  original_language                                                url  \n",
       "0           English  https://www.rottentomatoes.com/m/a_castle_for_...  \n",
       "1           English    https://www.rottentomatoes.com/m/pinocchio_1940  \n",
       "2           English  https://www.rottentomatoes.com/m/the_informer_...  \n",
       "3           English  https://www.rottentomatoes.com/m/they_cloned_t...  \n",
       "4           English         https://www.rottentomatoes.com/m/1917_2019  "
      ]
     },
     "execution_count": 290,
     "metadata": {},
     "output_type": "execute_result"
    }
   ],
   "source": [
    "df = pd.read_csv('../../data/raw/data.csv')\n",
    "df.head()"
   ]
  },
  {
   "cell_type": "markdown",
   "metadata": {},
   "source": [
    "How many rows and columns are there?"
   ]
  },
  {
   "cell_type": "code",
   "execution_count": 291,
   "metadata": {},
   "outputs": [
    {
     "name": "stdout",
     "output_type": "stream",
     "text": [
      "Number of columns: 11\n",
      "Number of rows: 1215\n"
     ]
    }
   ],
   "source": [
    "print(\"Number of columns:\", df.shape[1])\n",
    "print(\"Number of rows:\", df.shape[0])"
   ]
  },
  {
   "cell_type": "markdown",
   "metadata": {},
   "source": [
    "What is the meaning of each row?\n",
    "- Each row shows details of a movie such as genre, language,... as well as its ratings.\n",
    "\n",
    "What is the meaning of each column?"
   ]
  },
  {
   "cell_type": "markdown",
   "metadata": {},
   "source": [
    "| Column | Meaning    |\n",
    "|--------|------------|\n",
    "| name   | Title of the movie |\n",
    "| genre  | Genres of the movie|\n",
    "| tomatometer_score| Rating score of the movie, according to Rotten Tomatoes' experts|\n",
    "| tomatometer_count| Number of experts' reviews made about the movie|\n",
    "| audience_score| Rating score of the movie, according to Rotten Tomatoes' audience/viewers|\n",
    "| audience_count| Number of audience's reviews made about the movie|\n",
    "| classification| The movie's suitability rating|\n",
    "| runtime| Length of the movie|\n",
    "| release_year| Year of the movie's release|\n",
    "| original_language| Original language the movie was filmed in|\n",
    "| url| url to movie's info|"
   ]
  },
  {
   "cell_type": "markdown",
   "metadata": {},
   "source": [
    "What is the current datatype of each column? Are there any inapproriate datatype?"
   ]
  },
  {
   "cell_type": "code",
   "execution_count": 292,
   "metadata": {},
   "outputs": [
    {
     "data": {
      "text/plain": [
       "name                 object\n",
       "genre                object\n",
       "tomatometer_score    object\n",
       "tomatometer_count    object\n",
       "audience_score       object\n",
       "audience_count       object\n",
       "classification       object\n",
       "runtime              object\n",
       "release_year          int64\n",
       "original_language    object\n",
       "url                  object\n",
       "dtype: object"
      ]
     },
     "execution_count": 292,
     "metadata": {},
     "output_type": "execute_result"
    }
   ],
   "source": [
    "df.dtypes"
   ]
  },
  {
   "cell_type": "markdown",
   "metadata": {},
   "source": [
    "```tomatometer_score, tomatometer_count, audience_score, audience_count``` and ```runtime``` should be numeric.  \n",
    "\n",
    "- We'll convert ```tomatometer_score``` and ```audience_score``` to its float equivalence."
   ]
  },
  {
   "cell_type": "code",
   "execution_count": 293,
   "metadata": {},
   "outputs": [],
   "source": [
    "df['tomatometer_score'] = df['tomatometer_score'].str.strip('%')\n",
    "df['audience_score'] = df['audience_score'].str.strip('%')\n",
    "\n",
    "#Convert '--' value to 0\n",
    "df.loc[df['tomatometer_score'] == '--', 'tomatometer_score'] = np.nan\n",
    "df.loc[df['audience_score'] == '--', 'audience_score'] = np.nan\n",
    "\n",
    "df[['tomatometer_score','audience_score']] = df[['tomatometer_score','audience_score']].astype(float) / 100"
   ]
  },
  {
   "cell_type": "markdown",
   "metadata": {},
   "source": [
    "- ```audience_count``` and ```tomatometer_count``` has value 'fewer'.\n",
    "- To determine value of 'fewer', we'll find the numerical min of each columns."
   ]
  },
  {
   "cell_type": "code",
   "execution_count": 294,
   "metadata": {},
   "outputs": [],
   "source": [
    "#Remove all symbols\n",
    "df['audience_count'] = df['audience_count'].str.replace(',','').str.replace('+','')\n",
    "df['tomatometer_count'] = df['tomatometer_count'].str.replace(',','').str.replace('+','')"
   ]
  },
  {
   "cell_type": "code",
   "execution_count": 295,
   "metadata": {},
   "outputs": [
    {
     "name": "stdout",
     "output_type": "stream",
     "text": [
      "Tomatometer min: 1.0\n",
      "Audience min: 50.0\n"
     ]
    }
   ],
   "source": [
    "#Get unique values except for 'Fewer' and nan\n",
    "unique_vals = df[~(df['tomatometer_count'] == 'Fewer')]['tomatometer_count'].unique().astype(float)\n",
    "unique_vals = unique_vals[~np.isnan(unique_vals)]\n",
    "print(\"Tomatometer min:\",unique_vals.min())\n",
    "\n",
    "#Get unique values except for 'Fewer' and nan\n",
    "unique_vals = df[~(df['audience_count'] == 'Fewer')]['audience_count'].unique().astype(float)\n",
    "unique_vals = unique_vals[~np.isnan(unique_vals)]\n",
    "print(\"Audience min:\",unique_vals.min())"
   ]
  },
  {
   "cell_type": "markdown",
   "metadata": {},
   "source": [
    "So, we'll set **'Fewer'** for `tomatometer_count = 0` and `audience_count = 25`"
   ]
  },
  {
   "cell_type": "code",
   "execution_count": 296,
   "metadata": {},
   "outputs": [],
   "source": [
    "#Convert 'fewer'\n",
    "df.loc[df['tomatometer_count'] == 'Fewer', 'tomatometer_count'] = 0\n",
    "df.loc[df['audience_count'] == 'Fewer', 'audience_count'] = 25\n",
    "\n",
    "df['audience_count'] = df['audience_count'].astype(float)\n",
    "df['tomatometer_count'] = df['tomatometer_count'].astype(float)"
   ]
  },
  {
   "cell_type": "markdown",
   "metadata": {},
   "source": [
    "- ```runtime``` will be converted to minutes."
   ]
  },
  {
   "cell_type": "code",
   "execution_count": 297,
   "metadata": {},
   "outputs": [],
   "source": [
    "def convert_to_mins(x):\n",
    "    regex = r'(\\d{,1}h)?(\\d{,2}m)?'\n",
    "    r = re.search(regex, x)\n",
    "    hours = int(r.group(1).strip('h')) if r.group(1) != None else 0\n",
    "    mins = int(r.group(2).strip('m')) if r.group(2) != None else 0\n",
    "    result = hours*60 + mins\n",
    "    return result\n",
    "\n",
    "df['runtime'] = df['runtime'].str.replace(' ','').apply(convert_to_mins)\n",
    "#If runtime == 0, the data is wrong, let's convert those to nan\n",
    "df.loc[df['runtime'] == 0, 'runtime'] = np.nan"
   ]
  },
  {
   "cell_type": "code",
   "execution_count": 298,
   "metadata": {},
   "outputs": [
    {
     "data": {
      "text/html": [
       "<div>\n",
       "<style scoped>\n",
       "    .dataframe tbody tr th:only-of-type {\n",
       "        vertical-align: middle;\n",
       "    }\n",
       "\n",
       "    .dataframe tbody tr th {\n",
       "        vertical-align: top;\n",
       "    }\n",
       "\n",
       "    .dataframe thead th {\n",
       "        text-align: right;\n",
       "    }\n",
       "</style>\n",
       "<table border=\"1\" class=\"dataframe\">\n",
       "  <thead>\n",
       "    <tr style=\"text-align: right;\">\n",
       "      <th></th>\n",
       "      <th>name</th>\n",
       "      <th>genre</th>\n",
       "      <th>tomatometer_score</th>\n",
       "      <th>tomatometer_count</th>\n",
       "      <th>audience_score</th>\n",
       "      <th>audience_count</th>\n",
       "      <th>classification</th>\n",
       "      <th>runtime</th>\n",
       "      <th>release_year</th>\n",
       "      <th>original_language</th>\n",
       "      <th>url</th>\n",
       "    </tr>\n",
       "  </thead>\n",
       "  <tbody>\n",
       "    <tr>\n",
       "      <th>0</th>\n",
       "      <td>A Castle for Christmas</td>\n",
       "      <td>Holiday, Romance, Comedy</td>\n",
       "      <td>0.74</td>\n",
       "      <td>23.0</td>\n",
       "      <td>0.40</td>\n",
       "      <td>100.0</td>\n",
       "      <td>NaN</td>\n",
       "      <td>98.0</td>\n",
       "      <td>2021</td>\n",
       "      <td>English</td>\n",
       "      <td>https://www.rottentomatoes.com/m/a_castle_for_...</td>\n",
       "    </tr>\n",
       "    <tr>\n",
       "      <th>1</th>\n",
       "      <td>Pinocchio</td>\n",
       "      <td>Kids &amp; family, Fantasy, Animation</td>\n",
       "      <td>1.00</td>\n",
       "      <td>61.0</td>\n",
       "      <td>0.73</td>\n",
       "      <td>250000.0</td>\n",
       "      <td>G</td>\n",
       "      <td>87.0</td>\n",
       "      <td>1940</td>\n",
       "      <td>English</td>\n",
       "      <td>https://www.rottentomatoes.com/m/pinocchio_1940</td>\n",
       "    </tr>\n",
       "    <tr>\n",
       "      <th>2</th>\n",
       "      <td>The Informer</td>\n",
       "      <td>Mystery &amp; thriller, Crime, Drama</td>\n",
       "      <td>0.64</td>\n",
       "      <td>58.0</td>\n",
       "      <td>0.60</td>\n",
       "      <td>250.0</td>\n",
       "      <td>R (Strong Violence|Pervasive Language)</td>\n",
       "      <td>113.0</td>\n",
       "      <td>2019</td>\n",
       "      <td>English</td>\n",
       "      <td>https://www.rottentomatoes.com/m/the_informer_...</td>\n",
       "    </tr>\n",
       "    <tr>\n",
       "      <th>3</th>\n",
       "      <td>They Cloned Tyrone</td>\n",
       "      <td>Sci-fi, Comedy</td>\n",
       "      <td>0.95</td>\n",
       "      <td>129.0</td>\n",
       "      <td>1.00</td>\n",
       "      <td>25.0</td>\n",
       "      <td>R (Violence|Drug Use|Some Sexual Material|Perv...</td>\n",
       "      <td>122.0</td>\n",
       "      <td>2023</td>\n",
       "      <td>English</td>\n",
       "      <td>https://www.rottentomatoes.com/m/they_cloned_t...</td>\n",
       "    </tr>\n",
       "    <tr>\n",
       "      <th>4</th>\n",
       "      <td>1917</td>\n",
       "      <td>War, History, Drama</td>\n",
       "      <td>0.89</td>\n",
       "      <td>472.0</td>\n",
       "      <td>0.88</td>\n",
       "      <td>25000.0</td>\n",
       "      <td>R (Some Disturbing Images|Language|Violence)</td>\n",
       "      <td>119.0</td>\n",
       "      <td>2019</td>\n",
       "      <td>English</td>\n",
       "      <td>https://www.rottentomatoes.com/m/1917_2019</td>\n",
       "    </tr>\n",
       "  </tbody>\n",
       "</table>\n",
       "</div>"
      ],
      "text/plain": [
       "                     name                              genre   \n",
       "0  A Castle for Christmas           Holiday, Romance, Comedy  \\\n",
       "1               Pinocchio  Kids & family, Fantasy, Animation   \n",
       "2            The Informer   Mystery & thriller, Crime, Drama   \n",
       "3      They Cloned Tyrone                     Sci-fi, Comedy   \n",
       "4                    1917                War, History, Drama   \n",
       "\n",
       "   tomatometer_score  tomatometer_count  audience_score  audience_count   \n",
       "0               0.74               23.0            0.40           100.0  \\\n",
       "1               1.00               61.0            0.73        250000.0   \n",
       "2               0.64               58.0            0.60           250.0   \n",
       "3               0.95              129.0            1.00            25.0   \n",
       "4               0.89              472.0            0.88         25000.0   \n",
       "\n",
       "                                      classification  runtime  release_year   \n",
       "0                                                NaN     98.0          2021  \\\n",
       "1                                                  G     87.0          1940   \n",
       "2             R (Strong Violence|Pervasive Language)    113.0          2019   \n",
       "3  R (Violence|Drug Use|Some Sexual Material|Perv...    122.0          2023   \n",
       "4       R (Some Disturbing Images|Language|Violence)    119.0          2019   \n",
       "\n",
       "  original_language                                                url  \n",
       "0           English  https://www.rottentomatoes.com/m/a_castle_for_...  \n",
       "1           English    https://www.rottentomatoes.com/m/pinocchio_1940  \n",
       "2           English  https://www.rottentomatoes.com/m/the_informer_...  \n",
       "3           English  https://www.rottentomatoes.com/m/they_cloned_t...  \n",
       "4           English         https://www.rottentomatoes.com/m/1917_2019  "
      ]
     },
     "execution_count": 298,
     "metadata": {},
     "output_type": "execute_result"
    }
   ],
   "source": [
    "df.head()"
   ]
  },
  {
   "cell_type": "markdown",
   "metadata": {},
   "source": [
    "With each numerical columns, how are values distributed?\n",
    "- Percentage of missing values?"
   ]
  },
  {
   "cell_type": "code",
   "execution_count": 299,
   "metadata": {},
   "outputs": [
    {
     "data": {
      "text/plain": [
       "tomatometer_score    0.043621\n",
       "tomatometer_count    0.005761\n",
       "audience_score       0.018930\n",
       "audience_count       0.018930\n",
       "runtime              0.004115\n",
       "release_year         0.000000\n",
       "dtype: float64"
      ]
     },
     "execution_count": 299,
     "metadata": {},
     "output_type": "execute_result"
    }
   ],
   "source": [
    "df.select_dtypes('number').isna().sum() / len(df)"
   ]
  },
  {
   "cell_type": "markdown",
   "metadata": {},
   "source": [
    "- Describe the values."
   ]
  },
  {
   "cell_type": "code",
   "execution_count": 300,
   "metadata": {},
   "outputs": [
    {
     "data": {
      "text/html": [
       "<div>\n",
       "<style scoped>\n",
       "    .dataframe tbody tr th:only-of-type {\n",
       "        vertical-align: middle;\n",
       "    }\n",
       "\n",
       "    .dataframe tbody tr th {\n",
       "        vertical-align: top;\n",
       "    }\n",
       "\n",
       "    .dataframe thead th {\n",
       "        text-align: right;\n",
       "    }\n",
       "</style>\n",
       "<table border=\"1\" class=\"dataframe\">\n",
       "  <thead>\n",
       "    <tr style=\"text-align: right;\">\n",
       "      <th></th>\n",
       "      <th>tomatometer_score</th>\n",
       "      <th>tomatometer_count</th>\n",
       "      <th>audience_score</th>\n",
       "      <th>audience_count</th>\n",
       "      <th>runtime</th>\n",
       "      <th>release_year</th>\n",
       "    </tr>\n",
       "  </thead>\n",
       "  <tbody>\n",
       "    <tr>\n",
       "      <th>count</th>\n",
       "      <td>1162.000000</td>\n",
       "      <td>1208.000000</td>\n",
       "      <td>1192.000000</td>\n",
       "      <td>1192.000000</td>\n",
       "      <td>1210.000000</td>\n",
       "      <td>1215.000000</td>\n",
       "    </tr>\n",
       "    <tr>\n",
       "      <th>mean</th>\n",
       "      <td>0.730077</td>\n",
       "      <td>166.447848</td>\n",
       "      <td>0.742391</td>\n",
       "      <td>41565.247483</td>\n",
       "      <td>112.141322</td>\n",
       "      <td>2015.186008</td>\n",
       "    </tr>\n",
       "    <tr>\n",
       "      <th>std</th>\n",
       "      <td>0.238015</td>\n",
       "      <td>130.747810</td>\n",
       "      <td>0.187176</td>\n",
       "      <td>79940.738938</td>\n",
       "      <td>22.256881</td>\n",
       "      <td>12.200412</td>\n",
       "    </tr>\n",
       "    <tr>\n",
       "      <th>min</th>\n",
       "      <td>0.000000</td>\n",
       "      <td>0.000000</td>\n",
       "      <td>0.000000</td>\n",
       "      <td>25.000000</td>\n",
       "      <td>39.000000</td>\n",
       "      <td>1936.000000</td>\n",
       "    </tr>\n",
       "    <tr>\n",
       "      <th>25%</th>\n",
       "      <td>0.600000</td>\n",
       "      <td>53.000000</td>\n",
       "      <td>0.640000</td>\n",
       "      <td>250.000000</td>\n",
       "      <td>96.000000</td>\n",
       "      <td>2015.000000</td>\n",
       "    </tr>\n",
       "    <tr>\n",
       "      <th>50%</th>\n",
       "      <td>0.810000</td>\n",
       "      <td>143.000000</td>\n",
       "      <td>0.790000</td>\n",
       "      <td>2500.000000</td>\n",
       "      <td>109.000000</td>\n",
       "      <td>2019.000000</td>\n",
       "    </tr>\n",
       "    <tr>\n",
       "      <th>75%</th>\n",
       "      <td>0.920000</td>\n",
       "      <td>256.000000</td>\n",
       "      <td>0.890000</td>\n",
       "      <td>25000.000000</td>\n",
       "      <td>124.000000</td>\n",
       "      <td>2022.000000</td>\n",
       "    </tr>\n",
       "    <tr>\n",
       "      <th>max</th>\n",
       "      <td>1.000000</td>\n",
       "      <td>602.000000</td>\n",
       "      <td>1.000000</td>\n",
       "      <td>250000.000000</td>\n",
       "      <td>242.000000</td>\n",
       "      <td>2023.000000</td>\n",
       "    </tr>\n",
       "  </tbody>\n",
       "</table>\n",
       "</div>"
      ],
      "text/plain": [
       "       tomatometer_score  tomatometer_count  audience_score  audience_count   \n",
       "count        1162.000000        1208.000000     1192.000000     1192.000000  \\\n",
       "mean            0.730077         166.447848        0.742391    41565.247483   \n",
       "std             0.238015         130.747810        0.187176    79940.738938   \n",
       "min             0.000000           0.000000        0.000000       25.000000   \n",
       "25%             0.600000          53.000000        0.640000      250.000000   \n",
       "50%             0.810000         143.000000        0.790000     2500.000000   \n",
       "75%             0.920000         256.000000        0.890000    25000.000000   \n",
       "max             1.000000         602.000000        1.000000   250000.000000   \n",
       "\n",
       "           runtime  release_year  \n",
       "count  1210.000000   1215.000000  \n",
       "mean    112.141322   2015.186008  \n",
       "std      22.256881     12.200412  \n",
       "min      39.000000   1936.000000  \n",
       "25%      96.000000   2015.000000  \n",
       "50%     109.000000   2019.000000  \n",
       "75%     124.000000   2022.000000  \n",
       "max     242.000000   2023.000000  "
      ]
     },
     "execution_count": 300,
     "metadata": {},
     "output_type": "execute_result"
    }
   ],
   "source": [
    "df.select_dtypes('number').describe()"
   ]
  },
  {
   "cell_type": "markdown",
   "metadata": {},
   "source": [
    "All values seem to be normal."
   ]
  },
  {
   "cell_type": "code",
   "execution_count": 301,
   "metadata": {},
   "outputs": [],
   "source": [
    "df.to_csv('../../data/processed/data.csv')"
   ]
  }
 ],
 "metadata": {
  "kernelspec": {
   "display_name": "Python 3",
   "language": "python",
   "name": "python3"
  },
  "language_info": {
   "codemirror_mode": {
    "name": "ipython",
    "version": 3
   },
   "file_extension": ".py",
   "mimetype": "text/x-python",
   "name": "python",
   "nbconvert_exporter": "python",
   "pygments_lexer": "ipython3",
   "version": "3.11.6"
  }
 },
 "nbformat": 4,
 "nbformat_minor": 2
}
