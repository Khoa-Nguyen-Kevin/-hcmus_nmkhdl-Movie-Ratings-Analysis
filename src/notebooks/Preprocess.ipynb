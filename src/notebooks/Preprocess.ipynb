{
 "cells": [
  {
   "cell_type": "markdown",
   "metadata": {},
   "source": [
    "## Setup environment"
   ]
  },
  {
   "cell_type": "code",
   "execution_count": 11,
   "metadata": {},
   "outputs": [],
   "source": [
    "import numpy as np\n",
    "import pandas as pd\n"
   ]
  },
  {
   "cell_type": "markdown",
   "metadata": {},
   "source": [
    "## Data Preprocessing"
   ]
  },
  {
   "cell_type": "code",
   "execution_count": 19,
   "metadata": {},
   "outputs": [],
   "source": [
    "df = pd.read_csv('../../data/raw/data.csv')\n"
   ]
  },
  {
   "cell_type": "code",
   "execution_count": 18,
   "metadata": {},
   "outputs": [
    {
     "data": {
      "text/html": [
       "<div>\n",
       "<style scoped>\n",
       "    .dataframe tbody tr th:only-of-type {\n",
       "        vertical-align: middle;\n",
       "    }\n",
       "\n",
       "    .dataframe tbody tr th {\n",
       "        vertical-align: top;\n",
       "    }\n",
       "\n",
       "    .dataframe thead th {\n",
       "        text-align: right;\n",
       "    }\n",
       "</style>\n",
       "<table border=\"1\" class=\"dataframe\">\n",
       "  <thead>\n",
       "    <tr style=\"text-align: right;\">\n",
       "      <th></th>\n",
       "      <th>name</th>\n",
       "      <th>genre</th>\n",
       "      <th>tomatometer_score</th>\n",
       "      <th>tomatometer_count</th>\n",
       "      <th>audience_score</th>\n",
       "      <th>audience_count</th>\n",
       "      <th>classification</th>\n",
       "      <th>runtime</th>\n",
       "      <th>release_year</th>\n",
       "      <th>original_language</th>\n",
       "      <th>url</th>\n",
       "    </tr>\n",
       "  </thead>\n",
       "  <tbody>\n",
       "    <tr>\n",
       "      <th>0</th>\n",
       "      <td>A Castle for Christmas</td>\n",
       "      <td>Holiday, Romance, Comedy</td>\n",
       "      <td>74%</td>\n",
       "      <td>23</td>\n",
       "      <td>40%</td>\n",
       "      <td>100+</td>\n",
       "      <td>NaN</td>\n",
       "      <td>1h 38m</td>\n",
       "      <td>2021</td>\n",
       "      <td>English</td>\n",
       "      <td>https://www.rottentomatoes.com/m/a_castle_for_...</td>\n",
       "    </tr>\n",
       "    <tr>\n",
       "      <th>1</th>\n",
       "      <td>Pinocchio</td>\n",
       "      <td>Kids &amp; family, Fantasy, Animation</td>\n",
       "      <td>100%</td>\n",
       "      <td>61</td>\n",
       "      <td>73%</td>\n",
       "      <td>250,000+</td>\n",
       "      <td>G</td>\n",
       "      <td>1h 27m</td>\n",
       "      <td>1940</td>\n",
       "      <td>English</td>\n",
       "      <td>https://www.rottentomatoes.com/m/pinocchio_1940</td>\n",
       "    </tr>\n",
       "    <tr>\n",
       "      <th>2</th>\n",
       "      <td>The Informer</td>\n",
       "      <td>Mystery &amp; thriller, Crime, Drama</td>\n",
       "      <td>64%</td>\n",
       "      <td>58</td>\n",
       "      <td>60%</td>\n",
       "      <td>250+</td>\n",
       "      <td>R (Strong Violence|Pervasive Language)</td>\n",
       "      <td>1h 53m</td>\n",
       "      <td>2019</td>\n",
       "      <td>English</td>\n",
       "      <td>https://www.rottentomatoes.com/m/the_informer_...</td>\n",
       "    </tr>\n",
       "    <tr>\n",
       "      <th>3</th>\n",
       "      <td>They Cloned Tyrone</td>\n",
       "      <td>Sci-fi, Comedy</td>\n",
       "      <td>95%</td>\n",
       "      <td>129</td>\n",
       "      <td>100%</td>\n",
       "      <td>Fewer</td>\n",
       "      <td>R (Violence|Drug Use|Some Sexual Material|Perv...</td>\n",
       "      <td>2h 2m</td>\n",
       "      <td>2023</td>\n",
       "      <td>English</td>\n",
       "      <td>https://www.rottentomatoes.com/m/they_cloned_t...</td>\n",
       "    </tr>\n",
       "    <tr>\n",
       "      <th>4</th>\n",
       "      <td>1917</td>\n",
       "      <td>War, History, Drama</td>\n",
       "      <td>89%</td>\n",
       "      <td>472</td>\n",
       "      <td>88%</td>\n",
       "      <td>25,000+</td>\n",
       "      <td>R (Some Disturbing Images|Language|Violence)</td>\n",
       "      <td>1h 59m</td>\n",
       "      <td>2019</td>\n",
       "      <td>English</td>\n",
       "      <td>https://www.rottentomatoes.com/m/1917_2019</td>\n",
       "    </tr>\n",
       "  </tbody>\n",
       "</table>\n",
       "</div>"
      ],
      "text/plain": [
       "                     name                              genre  \\\n",
       "0  A Castle for Christmas           Holiday, Romance, Comedy   \n",
       "1               Pinocchio  Kids & family, Fantasy, Animation   \n",
       "2            The Informer   Mystery & thriller, Crime, Drama   \n",
       "3      They Cloned Tyrone                     Sci-fi, Comedy   \n",
       "4                    1917                War, History, Drama   \n",
       "\n",
       "  tomatometer_score tomatometer_count audience_score audience_count  \\\n",
       "0               74%                23            40%           100+   \n",
       "1              100%                61            73%       250,000+   \n",
       "2               64%                58            60%           250+   \n",
       "3               95%               129           100%          Fewer   \n",
       "4               89%               472            88%        25,000+   \n",
       "\n",
       "                                      classification runtime  release_year  \\\n",
       "0                                                NaN  1h 38m          2021   \n",
       "1                                                  G  1h 27m          1940   \n",
       "2             R (Strong Violence|Pervasive Language)  1h 53m          2019   \n",
       "3  R (Violence|Drug Use|Some Sexual Material|Perv...   2h 2m          2023   \n",
       "4       R (Some Disturbing Images|Language|Violence)  1h 59m          2019   \n",
       "\n",
       "  original_language                                                url  \n",
       "0           English  https://www.rottentomatoes.com/m/a_castle_for_...  \n",
       "1           English    https://www.rottentomatoes.com/m/pinocchio_1940  \n",
       "2           English  https://www.rottentomatoes.com/m/the_informer_...  \n",
       "3           English  https://www.rottentomatoes.com/m/they_cloned_t...  \n",
       "4           English         https://www.rottentomatoes.com/m/1917_2019  "
      ]
     },
     "execution_count": 18,
     "metadata": {},
     "output_type": "execute_result"
    }
   ],
   "source": [
    "df.head()"
   ]
  },
  {
   "cell_type": "markdown",
   "metadata": {},
   "source": [
    "We can see that there is a URL column which is not useful for our analysis. We can drop that column."
   ]
  },
  {
   "cell_type": "code",
   "execution_count": 52,
   "metadata": {},
   "outputs": [],
   "source": [
    "df = df.drop(axis = 1, columns = 'url')"
   ]
  },
  {
   "cell_type": "code",
   "execution_count": 54,
   "metadata": {},
   "outputs": [
    {
     "data": {
      "text/html": [
       "<div>\n",
       "<style scoped>\n",
       "    .dataframe tbody tr th:only-of-type {\n",
       "        vertical-align: middle;\n",
       "    }\n",
       "\n",
       "    .dataframe tbody tr th {\n",
       "        vertical-align: top;\n",
       "    }\n",
       "\n",
       "    .dataframe thead th {\n",
       "        text-align: right;\n",
       "    }\n",
       "</style>\n",
       "<table border=\"1\" class=\"dataframe\">\n",
       "  <thead>\n",
       "    <tr style=\"text-align: right;\">\n",
       "      <th></th>\n",
       "      <th>name</th>\n",
       "      <th>genre</th>\n",
       "      <th>tomatometer_score</th>\n",
       "      <th>tomatometer_count</th>\n",
       "      <th>audience_score</th>\n",
       "      <th>audience_count</th>\n",
       "      <th>classification</th>\n",
       "      <th>runtime</th>\n",
       "      <th>release_year</th>\n",
       "      <th>original_language</th>\n",
       "    </tr>\n",
       "  </thead>\n",
       "  <tbody>\n",
       "    <tr>\n",
       "      <th>0</th>\n",
       "      <td>A Castle for Christmas</td>\n",
       "      <td>Holiday, Romance, Comedy</td>\n",
       "      <td>74%</td>\n",
       "      <td>23</td>\n",
       "      <td>40%</td>\n",
       "      <td>100+</td>\n",
       "      <td>NaN</td>\n",
       "      <td>1h 38m</td>\n",
       "      <td>2021</td>\n",
       "      <td>English</td>\n",
       "    </tr>\n",
       "    <tr>\n",
       "      <th>1</th>\n",
       "      <td>Pinocchio</td>\n",
       "      <td>Kids &amp; family, Fantasy, Animation</td>\n",
       "      <td>100%</td>\n",
       "      <td>61</td>\n",
       "      <td>73%</td>\n",
       "      <td>250,000+</td>\n",
       "      <td>G</td>\n",
       "      <td>1h 27m</td>\n",
       "      <td>1940</td>\n",
       "      <td>English</td>\n",
       "    </tr>\n",
       "    <tr>\n",
       "      <th>2</th>\n",
       "      <td>The Informer</td>\n",
       "      <td>Mystery &amp; thriller, Crime, Drama</td>\n",
       "      <td>64%</td>\n",
       "      <td>58</td>\n",
       "      <td>60%</td>\n",
       "      <td>250+</td>\n",
       "      <td>R (Strong Violence|Pervasive Language)</td>\n",
       "      <td>1h 53m</td>\n",
       "      <td>2019</td>\n",
       "      <td>English</td>\n",
       "    </tr>\n",
       "    <tr>\n",
       "      <th>3</th>\n",
       "      <td>They Cloned Tyrone</td>\n",
       "      <td>Sci-fi, Comedy</td>\n",
       "      <td>95%</td>\n",
       "      <td>129</td>\n",
       "      <td>100%</td>\n",
       "      <td>Fewer</td>\n",
       "      <td>R (Violence|Drug Use|Some Sexual Material|Perv...</td>\n",
       "      <td>2h 2m</td>\n",
       "      <td>2023</td>\n",
       "      <td>English</td>\n",
       "    </tr>\n",
       "    <tr>\n",
       "      <th>4</th>\n",
       "      <td>1917</td>\n",
       "      <td>War, History, Drama</td>\n",
       "      <td>89%</td>\n",
       "      <td>472</td>\n",
       "      <td>88%</td>\n",
       "      <td>25,000+</td>\n",
       "      <td>R (Some Disturbing Images|Language|Violence)</td>\n",
       "      <td>1h 59m</td>\n",
       "      <td>2019</td>\n",
       "      <td>English</td>\n",
       "    </tr>\n",
       "  </tbody>\n",
       "</table>\n",
       "</div>"
      ],
      "text/plain": [
       "                     name                              genre  \\\n",
       "0  A Castle for Christmas           Holiday, Romance, Comedy   \n",
       "1               Pinocchio  Kids & family, Fantasy, Animation   \n",
       "2            The Informer   Mystery & thriller, Crime, Drama   \n",
       "3      They Cloned Tyrone                     Sci-fi, Comedy   \n",
       "4                    1917                War, History, Drama   \n",
       "\n",
       "  tomatometer_score tomatometer_count audience_score audience_count  \\\n",
       "0               74%                23            40%           100+   \n",
       "1              100%                61            73%       250,000+   \n",
       "2               64%                58            60%           250+   \n",
       "3               95%               129           100%          Fewer   \n",
       "4               89%               472            88%        25,000+   \n",
       "\n",
       "                                      classification runtime  release_year  \\\n",
       "0                                                NaN  1h 38m          2021   \n",
       "1                                                  G  1h 27m          1940   \n",
       "2             R (Strong Violence|Pervasive Language)  1h 53m          2019   \n",
       "3  R (Violence|Drug Use|Some Sexual Material|Perv...   2h 2m          2023   \n",
       "4       R (Some Disturbing Images|Language|Violence)  1h 59m          2019   \n",
       "\n",
       "  original_language  \n",
       "0           English  \n",
       "1           English  \n",
       "2           English  \n",
       "3           English  \n",
       "4           English  "
      ]
     },
     "execution_count": 54,
     "metadata": {},
     "output_type": "execute_result"
    }
   ],
   "source": [
    "df.head()"
   ]
  },
  {
   "cell_type": "markdown",
   "metadata": {},
   "source": [
    "### How many rows and how many columns does the raw data have? (0.25 points)"
   ]
  },
  {
   "cell_type": "code",
   "execution_count": 55,
   "metadata": {},
   "outputs": [],
   "source": [
    "shape = df.shape"
   ]
  },
  {
   "cell_type": "code",
   "execution_count": 56,
   "metadata": {},
   "outputs": [
    {
     "name": "stdout",
     "output_type": "stream",
     "text": [
      "Number of rows: 1215\n",
      "Number of columns: 10\n"
     ]
    }
   ],
   "source": [
    "print(f'Number of rows: {shape[0]}')\n",
    "print(f'Number of columns: {shape[1]}')"
   ]
  },
  {
   "cell_type": "markdown",
   "metadata": {},
   "source": [
    "### What does each line mean?"
   ]
  },
  {
   "cell_type": "markdown",
   "metadata": {},
   "source": [
    "Each line in the dataset represents a movie/ series information, such as title, release year, genre, etc."
   ]
  },
  {
   "cell_type": "markdown",
   "metadata": {},
   "source": [
    "### Does the dataset have duplicated rows? "
   ]
  },
  {
   "cell_type": "code",
   "execution_count": 57,
   "metadata": {},
   "outputs": [
    {
     "name": "stdout",
     "output_type": "stream",
     "text": [
      "Number of duplicate rows: 0\n"
     ]
    }
   ],
   "source": [
    "unique_rows = df.drop_duplicates().shape[0] - shape[0]\n",
    "print(f'Number of duplicate rows: {unique_rows}')"
   ]
  },
  {
   "cell_type": "markdown",
   "metadata": {},
   "source": [
    "### What does each column mean?"
   ]
  },
  {
   "cell_type": "markdown",
   "metadata": {},
   "source": [
    "| Column Name | Description |\n",
    "| --- | --- |\n",
    "| Name | Name of the movie/ series |\n",
    "| Genre | Genre of the movie/ series |\n",
    "| Tomatometer Score | Tomatometer Score of the movie/ series |\n",
    "| Tomatometer Count | Tomatometer Count of the movie/ series |\n",
    "| Audience Score | Audience Score of the movie/ series |\n",
    "| Audience Count | Audience Count of the movie/ series |\n",
    "| Classification | Classification of the movie/ series (Age restriction) |\n",
    "| Runtime | Runtime of the movie/ series |\n",
    "| Release Year | Release Year of the movie/ series |\n",
    "| Original Language | Original Language of the movie/ series |"
   ]
  },
  {
   "cell_type": "markdown",
   "metadata": {},
   "source": [
    "### Data type of each column"
   ]
  },
  {
   "cell_type": "code",
   "execution_count": 58,
   "metadata": {},
   "outputs": [],
   "source": [
    "dtypes = df.dtypes"
   ]
  },
  {
   "cell_type": "code",
   "execution_count": 59,
   "metadata": {},
   "outputs": [
    {
     "data": {
      "text/plain": [
       "name                 object\n",
       "genre                object\n",
       "tomatometer_score    object\n",
       "tomatometer_count    object\n",
       "audience_score       object\n",
       "audience_count       object\n",
       "classification       object\n",
       "runtime              object\n",
       "release_year          int64\n",
       "original_language    object\n",
       "dtype: object"
      ]
     },
     "execution_count": 59,
     "metadata": {},
     "output_type": "execute_result"
    }
   ],
   "source": [
    "dtypes"
   ]
  },
  {
   "cell_type": "markdown",
   "metadata": {},
   "source": [
    "Here, release year should be a string instead of an integer."
   ]
  },
  {
   "cell_type": "code",
   "execution_count": 61,
   "metadata": {},
   "outputs": [],
   "source": [
    "df['release_year'] = df['release_year'].astype(str)"
   ]
  }
 ],
 "metadata": {
  "kernelspec": {
   "display_name": "Python 3",
   "language": "python",
   "name": "python3"
  },
  "language_info": {
   "codemirror_mode": {
    "name": "ipython",
    "version": 3
   },
   "file_extension": ".py",
   "mimetype": "text/x-python",
   "name": "python",
   "nbconvert_exporter": "python",
   "pygments_lexer": "ipython3",
   "version": "3.11.4"
  }
 },
 "nbformat": 4,
 "nbformat_minor": 2
}
