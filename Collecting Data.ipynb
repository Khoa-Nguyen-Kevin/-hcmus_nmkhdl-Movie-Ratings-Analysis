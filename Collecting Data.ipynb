{
 "cells": [
  {
   "cell_type": "markdown",
   "metadata": {},
   "source": [
    "# 1 Data Collection"
   ]
  },
  {
   "cell_type": "markdown",
   "metadata": {},
   "source": [
    "1.1 Set-up Environment"
   ]
  },
  {
   "cell_type": "code",
   "execution_count": null,
   "metadata": {},
   "outputs": [],
   "source": [
    "import requests\n",
    "import json\n",
    "import pandas as pd"
   ]
  },
  {
   "cell_type": "markdown",
   "metadata": {},
   "source": [
    "1.2 Condition for sending a request and establishing variables to store data."
   ]
  },
  {
   "cell_type": "code",
   "execution_count": null,
   "metadata": {},
   "outputs": [],
   "source": [
    "extensions = '%7B%22persistedQuery%22%3A%7B%22sha256Hash%22%3A%227327d144ec84b57c93f761affe0d0609b0d495f85e8e47fdc76291679850cfda%22%2C%22version%22%3A1%7D%7D'\n",
    "\n",
    "\n",
    "url = 'https://caching.graphql.imdb.com/?operationName=AdvancedTitleSearch&variables={}&extensions={}'\n",
    "# url = 'https://caching.graphql.imdb.com/'\n",
    "\n",
    "headers = {\n",
    "    \"authority\":\"caching.graphql.imdb.com\",\n",
    "    \"accept\":\"application/graphql+json, application/json\",\n",
    "    \"accept-language\":\"en-US,en;q=0.9\",\n",
    "    \"content-type\":\"application/json\",\n",
    "    \"cookie\":\"uu=eyJpZCI6InV1ZjdkZDIxZTQxNjI2NDk5ZDlmMzQiLCJwcmVmZXJlbmNlcyI6eyJmaW5kX2luY2x1ZGVfYWR1bHQiOmZhbHNlfX0=; session-id=130-5051456-6343236; ubid-main=135-3141743-8299733; session-id-time=2082787201l; session-token=gCSbg4aEjMHkKMQozdNXcZ9pw5Bx1pDKZO/E/hxf99m9bObwEAHonk2ZLiMp+/1y9+pRdPmKxBz5OKrKF7h/kTuTduzH2HavA4pchVBWbVvefQHVOCICwLLzTplkJexUZWnijHssy5Rrr3vonX332+wJtjUll2E4RuXlAVpq6UMLDgDdi11TOX4Nc4FTmxJFDNXpXLF0VUii18SLtS37GHC5zKNnsv/3YWVevSV+jjDXuUV9nYtmwY7yCUhfqJI2nukbbbXygVPwbdGLRh3WQAJr9jOpGrN+2HV1IgwHrsxDuj4wF1NNiL0jjg+zuWKB7BVbGTVQuTLpQXHGLO4WHkYwZoBCZf0r; ad-oo=0\",\n",
    "    \"origin\":\"https://www.imdb.com\",\n",
    "    \"referer\":\"https://www.imdb.com/\",\n",
    "    \"sec-fetch-dest\":\"empty\",\n",
    "    \"sec-fetch-mode\":\"cors\",\n",
    "    \"sec-fetch-site\":\"same-site\",\n",
    "    \"user-agent\":\"Mozilla/5.0 (Windows NT 10.0; Win64; x64) AppleWebKit/537.36 (KHTML, like Gecko) Chrome/118.0.5993.118 Safari/537.36\",\n",
    "    \"x-amzn-sessionid\":\"130-5051456-6343236\",\n",
    "    \"x-imdb-client-name\":\"imdb-web-next-localized\",\n",
    "    \"x-imdb-client-rid\":\"16Q3WHX7RCCGW6H7YS4C\",\n",
    "    \"x-imdb-user-country\":\"US\",\n",
    "    \"x-imdb-user-language\":\"en-US\",\n",
    "    \"x-imdb-weblab-treatment-overrides\":'{\"IMDB_DESKTOP_SEARCH_ALGORITHM_UPDATES_577300\":\"T1\"}',\n",
    "}\n",
    "\n",
    "full_data = {}\n",
    "full_data.setdefault('Title', [])\n",
    "full_data.setdefault('Genre',[])\n",
    "full_data.setdefault('ReleaseYear',[])\n",
    "full_data.setdefault('Rating',[])\n",
    "full_data.setdefault('VoteCount',[])\n",
    "full_data.setdefault('Duration',[])\n",
    "full_data.setdefault('Age Limit',[])\n",
    "year = range(2014, 2023)"
   ]
  },
  {
   "cell_type": "markdown",
   "metadata": {},
   "source": [
    "1.3 Function"
   ]
  },
  {
   "cell_type": "code",
   "execution_count": null,
   "metadata": {},
   "outputs": [],
   "source": [
    "def parse_value(data):\n",
    "    #Name\n",
    "    full_data['Title'].append(data['node']['title']['titleText']['text'])\n",
    "    \n",
    "    #Genres\n",
    "    GenreList=[]\n",
    "    for genre in data['node']['title']['titleGenres']['genres']:\n",
    "        GenreList.append(genre['genre']['text'])\n",
    "    full_data['Genre'].append(GenreList)\n",
    "    \n",
    "    #ReleaseYear\n",
    "    full_data['ReleaseYear'].append(data['node']['title']['releaseYear']['year'])\n",
    "    \n",
    "    #Rating and RatingCount\n",
    "    full_data['Rating'].append(data['node']['title']['ratingsSummary']['aggregateRating'])\n",
    "    full_data['VoteCount'].append(data['node']['title']['ratingsSummary']['voteCount'])\n",
    "\n",
    "    #Duration\n",
    "    if data['node']['title']['runtime'] is not None:\n",
    "        full_data['Duration'].append(data['node']['title']['runtime']['seconds']/3600)\n",
    "    else: full_data['Duration'].append(None)\n",
    "    \n",
    "    #AgeLimit\n",
    "    if data['node']['title']['certificate'] is not None:\n",
    "        full_data['Age Limit'].append(data['node']['title']['certificate']['rating'])\n",
    "    else : full_data['Age Limit'].append(None)\n",
    "        \n",
    "        \n",
    "def generate_variable(genre, from_time, to_time):\n",
    "    return json.dumps({\"certificateConstraint\":{},\"colorationConstraint\":{},\"creditedCompanyConstraint\":{},\"first\":50,\"genreConstraint\":{\"allGenreIds\":[genre]},\"listConstraint\":{\"inAllLists\":[],\"inAllPredefinedLists\":[],\"notInAnyList\":[],\"notInAnyPredefinedList\":[]},\"locale\":\"en-US\",\"releaseDateConstraint\":{\"releaseDateRange\":{\"end\":f\"{to_time}-01-01\",\"start\":f\"{from_time}-01-01\"}},\"runtimeConstraint\":{\"runtimeRangeMinutes\":{}},\"sortBy\":\"POPULARITY\",\"sortOrder\":\"ASC\",\"titleTypeConstraint\":{\"anyTitleTypeIds\":[\"movie\"]},\"userRatingsConstraint\":{\"aggregateRatingRange\":{},\"ratingsCountRange\":{}}})\n",
    "\n",
    "# def Filter_duplicate_data():\n",
    "#     df = pd.DataFrame(full_data)\n",
    "#     df.drop_duplicates(subset=[\"Title\",\"ReleaseYear\"])"
   ]
  },
  {
   "cell_type": "code",
   "execution_count": null,
   "metadata": {},
   "outputs": [],
   "source": [
    "for from_time, to_time in zip(year[:-1], year[1:]):\n",
    "    for genre in ['Action', 'Adventure', 'Animation','Comedy','Crime']:\n",
    "        params = {\n",
    "                    'operationName' : 'AdvancedTitleSearch',\n",
    "                    'variables' : generate_variable(genre, from_time, to_time),\n",
    "                    'extensions' : extensions\n",
    "                    }\n",
    "        data = requests.get(url=url.format(params['variables'],params['extensions']), headers=headers)\n",
    "        # data = requests.get(url=url, params=params, headers=headers)\n",
    "        a = data.json()\n",
    "        for data in a['data']['advancedTitleSearch']['edges']:\n",
    "            parse_value(data)\n",
    "#new_data= Filter_duplicate_data()\n",
    "#new_data.to_csv('output.csv', index=False)\n",
    "full_data.to_csv('output.csv',index=False)"
   ]
  }
 ],
 "metadata": {
  "language_info": {
   "name": "python"
  }
 },
 "nbformat": 4,
 "nbformat_minor": 2
}
